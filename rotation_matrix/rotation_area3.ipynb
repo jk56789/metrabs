{
 "cells": [
  {
   "cell_type": "code",
   "execution_count": 2,
   "metadata": {},
   "outputs": [],
   "source": [
    "#여기 코드가 가장 중요하다. 위의 코드를 사용하면 matplot창을 띄워주고\n",
    "# 아래의 코드를 사용하면 파이썬에서 첫번째 이미지만 보여준다.\n",
    "\n",
    "\n",
    "%matplotlib qt\n",
    "\n",
    "#%matplotlib inline"
   ]
  },
  {
   "cell_type": "code",
   "execution_count": 3,
   "metadata": {},
   "outputs": [],
   "source": [
    "import tensorflow as tf\n",
    "import os\n",
    "\n",
    "def download_model(model_type):\n",
    "    server_prefix = 'https://omnomnom.vision.rwth-aachen.de/data/metrabs'\n",
    "    model_zippath = tf.keras.utils.get_file(\n",
    "        origin=f'{server_prefix}/{model_type}_20211019.zip',\n",
    "        extract=True, cache_subdir='models')\n",
    "    model_path = os.path.join(os.path.dirname(model_zippath), model_type)\n",
    "    return model_path\n",
    "\n",
    "model = tf.saved_model.load(download_model('metrabs_mob3l_y4t')) # or metrabs_eff2l_y4 for the big model\n",
    "! wget -q https://raw.githubusercontent.com/isarandi/metrabs/master/img/test_image_3dpw.jpg\n"
   ]
  },
  {
   "cell_type": "markdown",
   "metadata": {},
   "source": [
    "## area3 이미지 3장 분석\n"
   ]
  },
  {
   "cell_type": "markdown",
   "metadata": {},
   "source": [
    "area2_145.jpg,230,135"
   ]
  },
  {
   "cell_type": "code",
   "execution_count": null,
   "metadata": {},
   "outputs": [],
   "source": [
    "import cv2\n",
    "image1 = cv2.imread('C:/Users/Leeyourack/jookyoung/image/area3/area3_233.jpg')\n",
    "image1 = cv2.cvtColor(image1, cv2.COLOR_BGR2RGB)\n",
    "pred1 = model.detect_poses(image1, skeleton='smpl_24')"
   ]
  },
  {
   "cell_type": "code",
   "execution_count": 6,
   "metadata": {},
   "outputs": [],
   "source": [
    "import cv2\n",
    "image2 = cv2.imread('C:/Users/Leeyourack/jookyoung/image/area3/area3_203.jpg')\n",
    "image2 = cv2.cvtColor(image2, cv2.COLOR_BGR2RGB)\n",
    "pred2 = model.detect_poses(image2, skeleton='smpl_24')"
   ]
  },
  {
   "cell_type": "code",
   "execution_count": 8,
   "metadata": {},
   "outputs": [],
   "source": [
    "import cv2\n",
    "image3 = cv2.imread('C:/Users/Leeyourack/jookyoung/image/area3/area3_245.jpg')\n",
    "image3 = cv2.cvtColor(image3, cv2.COLOR_BGR2RGB)\n",
    "pred3 = model.detect_poses(image3, skeleton='smpl_24')"
   ]
  },
  {
   "cell_type": "markdown",
   "metadata": {},
   "source": [
    "### area3_normal vector"
   ]
  },
  {
   "cell_type": "code",
   "execution_count": 10,
   "metadata": {},
   "outputs": [],
   "source": [
    "poses3d1=pred1['poses3d'].numpy()[0]\n",
    "poses3d1[..., 1], poses3d1[..., 2] = poses3d1[..., 2], -poses3d1[..., 1]"
   ]
  },
  {
   "cell_type": "code",
   "execution_count": 11,
   "metadata": {},
   "outputs": [
    {
     "data": {
      "text/plain": [
       "array([ 166.1, 5129.6, -494.7], dtype=float32)"
      ]
     },
     "execution_count": 11,
     "metadata": {},
     "output_type": "execute_result"
    }
   ],
   "source": [
    "a=poses3d1[10]\n",
    "a"
   ]
  },
  {
   "cell_type": "code",
   "execution_count": 12,
   "metadata": {},
   "outputs": [
    {
     "data": {
      "text/plain": [
       "array([-2.1825000e+02, -1.8430000e+02, -1.5675000e+02, -2.3872501e+02,\n",
       "        2.2187500e-01, -6.1328125e+00, -3.3870001e+02,  2.1010001e+02,\n",
       "        2.2589999e+02, -3.8510001e+02,  1.6610001e+02,  2.1167500e+02,\n",
       "       -5.0625000e+02, -4.6420001e+02, -4.2385001e+02, -5.8200000e+02,\n",
       "       -4.9025000e+02, -4.0970001e+02, -3.9435001e+02, -2.7995001e+02,\n",
       "       -3.8560001e+02, -2.9675000e+02, -3.7914999e+02, -2.8462500e+02],\n",
       "      dtype=float32)"
      ]
     },
     "execution_count": 12,
     "metadata": {},
     "output_type": "execute_result"
    }
   ],
   "source": [
    "poses3d1.T[0]"
   ]
  },
  {
   "cell_type": "code",
   "execution_count": 13,
   "metadata": {},
   "outputs": [],
   "source": [
    "poses3d2=pred2['poses3d'].numpy()[0]\n",
    "poses3d2[..., 1], poses3d2[..., 2] = poses3d2[..., 2], -poses3d2[..., 1]"
   ]
  },
  {
   "cell_type": "code",
   "execution_count": 14,
   "metadata": {},
   "outputs": [
    {
     "data": {
      "text/plain": [
       "array([ 188.425, 7096.8  ,  685.   ], dtype=float32)"
      ]
     },
     "execution_count": 14,
     "metadata": {},
     "output_type": "execute_result"
    }
   ],
   "source": [
    "b=poses3d2[10]\n",
    "b"
   ]
  },
  {
   "cell_type": "code",
   "execution_count": 15,
   "metadata": {},
   "outputs": [],
   "source": [
    "poses3d3=pred3['poses3d'].numpy()[0]\n",
    "poses3d3[..., 1], poses3d3[..., 2] = poses3d3[..., 2], -poses3d3[..., 1]\n",
    " "
   ]
  },
  {
   "cell_type": "code",
   "execution_count": 16,
   "metadata": {},
   "outputs": [
    {
     "data": {
      "text/plain": [
       "array([ -67.47813, 5987.2    , -177.4625 ], dtype=float32)"
      ]
     },
     "execution_count": 16,
     "metadata": {},
     "output_type": "execute_result"
    }
   ],
   "source": [
    "c=poses3d3[10]\n",
    "c"
   ]
  },
  {
   "cell_type": "code",
   "execution_count": 17,
   "metadata": {},
   "outputs": [
    {
     "name": "stdout",
     "output_type": "stream",
     "text": [
      "[  22.324997 1967.1997   1179.7     ]\n",
      "[-233.57812  857.6001   317.23752]\n"
     ]
    }
   ],
   "source": [
    "ab = b-a\n",
    "print(ab)\n",
    "ac = c-a\n",
    "print(ac)"
   ]
  },
  {
   "cell_type": "code",
   "execution_count": 18,
   "metadata": {},
   "outputs": [
    {
     "data": {
      "text/plain": [
       "[-387641.25, -282634.4, 478640.72]"
      ]
     },
     "execution_count": 18,
     "metadata": {},
     "output_type": "execute_result"
    }
   ],
   "source": [
    "list = [ab[1]*ac[2]-ab[2]*ac[1],-(ab[0]*ac[2]-ab[2]*ac[0]),ab[0]*ac[1]-ab[1]*ac[0]]\n",
    "list"
   ]
  },
  {
   "cell_type": "code",
   "execution_count": 19,
   "metadata": {},
   "outputs": [
    {
     "data": {
      "text/plain": [
       "[-387641.25, -282634.4, 478640.72]"
      ]
     },
     "execution_count": 19,
     "metadata": {},
     "output_type": "execute_result"
    }
   ],
   "source": [
    "list = [(ab[1]*ac[2]-ab[2]*ac[1]),\n",
    "        -(ab[0]*ac[2]-ab[2]*ac[0]),\n",
    "            (ab[0]*ac[1]-ab[1]*ac[0])]\n",
    "list"
   ]
  },
  {
   "cell_type": "code",
   "execution_count": 20,
   "metadata": {},
   "outputs": [
    {
     "data": {
      "text/plain": [
       "-387641.25"
      ]
     },
     "execution_count": 20,
     "metadata": {},
     "output_type": "execute_result"
    }
   ],
   "source": [
    "list[0]"
   ]
  },
  {
   "cell_type": "markdown",
   "metadata": {},
   "source": [
    "### rotation matrix"
   ]
  },
  {
   "cell_type": "code",
   "execution_count": 21,
   "metadata": {},
   "outputs": [
    {
     "name": "stdout",
     "output_type": "stream",
     "text": [
      "x: -387641.25 y: -282634.4 z: 478640.72\n",
      "xy: 479737.3722130188 yz: 555858.9256653226 xz: 615924.2456236636\n",
      "xyz: 677676.0907272509\n"
     ]
    }
   ],
   "source": [
    "x=list[0]\n",
    "y=list[1]\n",
    "z=list[2]\n",
    "print('x:',x, 'y:',y, 'z:',z )\n",
    "xy = (x**2+y**2)**0.5\n",
    "yz = (y**2+z**2)**0.5\n",
    "xz = (x**2+z**2)**0.5\n",
    "print('xy:',xy, 'yz:',yz, 'xz:',xz )\n",
    "\n",
    "xyz = (x**2+y**2+z**2)**0.5\n",
    "print('xyz:',xyz)\n"
   ]
  },
  {
   "cell_type": "code",
   "execution_count": 22,
   "metadata": {},
   "outputs": [
    {
     "name": "stdout",
     "output_type": "stream",
     "text": [
      "-0.5556495544561977 0.8314166059399036\n"
     ]
    }
   ],
   "source": [
    "#z축 회전\n",
    "\n",
    "import math\n",
    "cos1 = math.cos(math.pi/2+abs(y/xy))\n",
    "sin1 = math.sin(math.pi/2+abs(y/xy))\n",
    "\n",
    "\n",
    "print(cos1,sin1)"
   ]
  },
  {
   "cell_type": "code",
   "execution_count": 23,
   "metadata": {},
   "outputs": [
    {
     "data": {
      "text/plain": [
       "6.123233995736766e-17"
      ]
     },
     "execution_count": 23,
     "metadata": {},
     "output_type": "execute_result"
    }
   ],
   "source": [
    "math.cos(math.pi/2)"
   ]
  },
  {
   "cell_type": "code",
   "execution_count": 24,
   "metadata": {},
   "outputs": [
    {
     "name": "stdout",
     "output_type": "stream",
     "text": [
      "0.6502515098837396 -0.7597190098279212\n"
     ]
    }
   ],
   "source": [
    "#y축 회전\n",
    "import math\n",
    "cos2 = math.cos(math.pi/2-abs(xy/xyz))\n",
    "sin2 = math.sin(math.pi/2-abs(xy/xyz))\n",
    "sin2 = -sin2\n",
    "\n",
    "print(cos2,sin2)"
   ]
  },
  {
   "cell_type": "code",
   "execution_count": 25,
   "metadata": {},
   "outputs": [
    {
     "data": {
      "text/plain": [
       "6.123233995736766e-17"
      ]
     },
     "execution_count": 25,
     "metadata": {},
     "output_type": "execute_result"
    }
   ],
   "source": [
    "import math\n",
    "math.cos(math.pi*1/2)"
   ]
  },
  {
   "cell_type": "code",
   "execution_count": 26,
   "metadata": {},
   "outputs": [],
   "source": [
    "import numpy as np\n",
    "\n",
    "r1 = np.array([[cos1,-sin1,0], #z축 회전\n",
    "                [sin1,cos1,0],\n",
    "                [0,0,1]])\n",
    "r2 = np.array([[cos2,0,sin2],\n",
    "                [0,1,0],\n",
    "                [-sin2,0,cos2]])        #y축 회전\n",
    "r3 = np.array([[0,1,0], #z축 회전\n",
    "                [-1,0,0],\n",
    "                [0,0,1]])\n",
    "                "
   ]
  },
  {
   "cell_type": "code",
   "execution_count": 27,
   "metadata": {},
   "outputs": [],
   "source": [
    "import numpy as np\n",
    "\n",
    "r1 = np.array([[cos1,-sin1,0],          #z축 회전\n",
    "                [sin1,cos1,0],\n",
    "                [0,0,1]])\n",
    "r2 = np.array([[cos2,0,sin2],           #y축 회전\n",
    "                [0,1,0],\n",
    "                [-sin2,0,cos2]])        \n",
    "r3 = np.array([[math.cos(math.pi*1/1.6),math.sin(math.pi*1/1.6),0],                 #z축 회전\n",
    "                [-math.sin(math.pi*1/1.6),math.cos(math.pi*1/1.6),0],\n",
    "                [0,0,1]])"
   ]
  },
  {
   "cell_type": "code",
   "execution_count": 28,
   "metadata": {},
   "outputs": [
    {
     "data": {
      "text/plain": [
       "array([[-0.38268343,  0.92387953,  0.        ],\n",
       "       [-0.92387953, -0.38268343,  0.        ],\n",
       "       [ 0.        ,  0.        ,  1.        ]])"
      ]
     },
     "execution_count": 28,
     "metadata": {},
     "output_type": "execute_result"
    }
   ],
   "source": [
    "r3"
   ]
  },
  {
   "cell_type": "code",
   "execution_count": 29,
   "metadata": {},
   "outputs": [
    {
     "data": {
      "text/plain": [
       "array([[ 0.90639689, -0.30646314,  0.29073188],\n",
       "       [ 0.01563937,  0.71211478,  0.70188884],\n",
       "       [-0.42213753, -0.631643  ,  0.65025151]])"
      ]
     },
     "execution_count": 29,
     "metadata": {},
     "output_type": "execute_result"
    }
   ],
   "source": [
    "rotation1 = r3@r2@r1\n",
    "rotation1"
   ]
  },
  {
   "cell_type": "markdown",
   "metadata": {},
   "source": [
    "## 변환행렬 적용 전"
   ]
  },
  {
   "cell_type": "code",
   "execution_count": 30,
   "metadata": {},
   "outputs": [],
   "source": [
    "# 변환적용 전\n",
    "\n",
    "import matplotlib.pyplot as plt\n",
    "from matplotlib.patches import Rectangle\n",
    "from mpl_toolkits.mplot3d import Axes3D\n",
    "import numpy as np \n",
    "\n",
    "def visualize(im, detections, poses3d, poses2d, edges):\n",
    "    fig = plt.figure(figsize=(10, 5.2))\n",
    "    image_ax = fig.add_subplot(1, 2, 1)\n",
    "    image_ax.imshow(image1)\n",
    "    for x, y, w, h in detections[:, :4]:\n",
    "        image_ax.add_patch(Rectangle((x, y), w, h, fill=False))\n",
    "    \n",
    "\n",
    "    pose_ax = fig.add_subplot(1, 2, 2, projection='3d')\n",
    "    pose_ax.view_init(14, -76)\n",
    "    pose_ax.set_xlim3d(-10000, 1500)\n",
    "    pose_ax.set_zlim3d(0, 6000)\n",
    "    pose_ax.set_ylim3d(0, 20000)\n",
    "\n",
    "\n",
    "    # x, y, z값 \n",
    "    xpos = [-10000,-1500,500]\n",
    "    ypos = [10000,9000,5000]\n",
    "    zpos = [0,0,0]\n",
    "\n",
    "    # delta x, y, z 값\n",
    "    dx = [4000,2000,1000]\n",
    "    dy = [10000,11000,15000]\n",
    "    dz = [2000,2000,2000]\n",
    "\n",
    "    #그래프 만들기\n",
    "    pose_ax.bar3d(xpos,ypos,zpos,dx,dy,dz,'#7f7f7f',alpha=0.2) #,color='#00ceaa'(초록색) 기본값은 파란색\n",
    "    pose_ax.set_title('6F')\n",
    "    pose_ax.set_xlabel('x axis')\n",
    "    pose_ax.set_ylabel('y axis')\n",
    "    pose_ax.set_zlabel('z axis')\n",
    "\n",
    "    '''#2\n",
    "    pose_ax = fig.add_subplot(1, 2, 2, projection='3d')\n",
    "    pose_ax.view_init(5, -85)\n",
    "    pose_ax.set_xlim3d(-1500, 1500)\n",
    "    pose_ax.set_zlim3d(-500, 1500)\n",
    "    pose_ax.set_ylim3d(0, 3000)'''\n",
    "\n",
    "\n",
    "\n",
    "    # Matplotlib plots the Z axis as vertical, but our poses have Y as the vertical axis.\n",
    "    # Therefore, we do a 90° rotation around the X axis:\n",
    "    poses3d[..., 1], poses3d[..., 2] = poses3d[..., 2], -poses3d[..., 1] \n",
    "    '''a=np.ones(24)*(-6000)\n",
    "    b=np.ones(24)\n",
    "    c=np.ones(24)*(-2700)\n",
    "    shift=np.row_stack((a,b,c))'''\n",
    "    \n",
    "\n",
    "    for pose3d, pose2d in zip(poses3d, poses2d):\n",
    "        #p1=pose3d.T+shift\n",
    "        #pose3d=rotation1@pose3d.T\n",
    "        #pose3d=pose3d+shift\n",
    "        for i_start, i_end in edges:\n",
    "            image_ax.plot(*zip(pose2d[i_start], pose2d[i_end]), marker='o', markersize=2)\n",
    "            pose_ax.plot(*zip(pose3d[i_start], pose3d[i_end]), marker='o', markersize=2)\n",
    "        image_ax.scatter(*pose2d.T, s=2)\n",
    "        pose_ax.scatter(*pose3d.T, s=2)\n",
    "\n",
    "    fig.tight_layout()\n",
    "    plt.show()\n",
    "\n",
    "visualize(\n",
    "    image1, \n",
    "    pred1['boxes'].numpy(),\n",
    "    pred1['poses3d'].numpy(),\n",
    "    pred1['poses2d'].numpy(),\n",
    "    model.per_skeleton_joint_edges['smpl_24'].numpy())"
   ]
  },
  {
   "cell_type": "markdown",
   "metadata": {},
   "source": [
    "## 변환행렬 적용 후"
   ]
  },
  {
   "cell_type": "code",
   "execution_count": 31,
   "metadata": {},
   "outputs": [],
   "source": [
    "##1\n",
    "import matplotlib.pyplot as plt\n",
    "from matplotlib.patches import Rectangle\n",
    "from mpl_toolkits.mplot3d import Axes3D\n",
    "import numpy as np \n",
    "\n",
    "def visualize(im, detections, poses3d, poses2d, edges):\n",
    "    fig = plt.figure(figsize=(10, 5.2))\n",
    "    image_ax = fig.add_subplot(1, 2, 1)\n",
    "    image_ax.imshow(image1)\n",
    "    for x, y, w, h in detections[:, :4]:\n",
    "        image_ax.add_patch(Rectangle((x, y), w, h, fill=False))\n",
    "    \n",
    "\n",
    "    pose_ax = fig.add_subplot(1, 2, 2, projection='3d')\n",
    "    pose_ax.view_init(14, -76)\n",
    "    pose_ax.set_xlim3d(-10000, 1500)\n",
    "    pose_ax.set_zlim3d(0, 6000)\n",
    "    pose_ax.set_ylim3d(0, 20000)\n",
    "\n",
    "\n",
    "    # x, y, z값 \n",
    "    xpos = [-10000,-1500,500]\n",
    "    ypos = [10000,9000,5000]\n",
    "    zpos = [0,0,0]\n",
    "\n",
    "    # delta x, y, z 값\n",
    "    dx = [4000,2000,1000]\n",
    "    dy = [10000,11000,15000]\n",
    "    dz = [2000,2000,2000]\n",
    "\n",
    "    #그래프 만들기\n",
    "    pose_ax.bar3d(xpos,ypos,zpos,dx,dy,dz,'#7f7f7f',alpha=0.2) #,color='#00ceaa'(초록색) 기본값은 파란색\n",
    "    pose_ax.set_title('6F')\n",
    "    pose_ax.set_xlabel('x axis')\n",
    "    pose_ax.set_ylabel('y axis')\n",
    "    pose_ax.set_zlabel('z axis')\n",
    "\n",
    "    '''#2\n",
    "    pose_ax = fig.add_subplot(1, 2, 2, projection='3d')\n",
    "    pose_ax.view_init(5, -85)\n",
    "    pose_ax.set_xlim3d(-1500, 1500)\n",
    "    pose_ax.set_zlim3d(-500, 1500)\n",
    "    pose_ax.set_ylim3d(0, 3000)'''\n",
    "\n",
    "\n",
    "\n",
    "    # Matplotlib plots the Z axis as vertical, but our poses have Y as the vertical axis.\n",
    "    # Therefore, we do a 90° rotation around the X axis:\n",
    "    poses3d[..., 1], poses3d[..., 2] = poses3d[..., 2], -poses3d[..., 1] \n",
    "    a=np.ones(24)*(1000)\n",
    "    b=np.ones(24)*(+0)\n",
    "    c=np.ones(24)*(+3500)\n",
    "    shift=np.row_stack((a,b,c))\n",
    "    \n",
    "\n",
    "    for pose3d, pose2d in zip(poses3d, poses2d):\n",
    "        \n",
    "        pose3d=rotation1@pose3d.T\n",
    "        pose3d=pose3d+shift\n",
    "\n",
    "        for i_start, i_end in edges:\n",
    "            image_ax.plot(*zip(pose2d[i_start], pose2d[i_end]), marker='o', markersize=2)\n",
    "            pose_ax.plot(*zip(pose3d.T[i_start], pose3d.T[i_end]), marker='o', markersize=2)\n",
    "        \n",
    "        image_ax.scatter(*pose2d.T, s=2)\n",
    "        pose_ax.scatter(*pose3d, s=2)\n",
    "\n",
    "    fig.tight_layout()\n",
    "    plt.show()\n",
    "\n",
    "visualize(\n",
    "    image1, \n",
    "    pred1['boxes'].numpy(),\n",
    "    pred1['poses3d'].numpy(),\n",
    "    pred1['poses2d'].numpy(),\n",
    "    model.per_skeleton_joint_edges['smpl_24'].numpy())"
   ]
  },
  {
   "cell_type": "code",
   "execution_count": 32,
   "metadata": {},
   "outputs": [],
   "source": [
    "##2\n",
    "import matplotlib.pyplot as plt\n",
    "from matplotlib.patches import Rectangle\n",
    "from mpl_toolkits.mplot3d import Axes3D\n",
    "import numpy as np \n",
    "\n",
    "def visualize(im, detections, poses3d, poses2d, edges):\n",
    "    fig = plt.figure(figsize=(10, 5.2))\n",
    "    image_ax = fig.add_subplot(1, 2, 1)\n",
    "    image_ax.imshow(image2)\n",
    "    for x, y, w, h in detections[:, :4]:\n",
    "        image_ax.add_patch(Rectangle((x, y), w, h, fill=False))\n",
    "    \n",
    "\n",
    "    pose_ax = fig.add_subplot(1, 2, 2, projection='3d')\n",
    "    pose_ax.view_init(14, -76)\n",
    "    pose_ax.set_xlim3d(-10000, 1500)\n",
    "    pose_ax.set_zlim3d(0, 6000)\n",
    "    pose_ax.set_ylim3d(0, 20000)\n",
    "\n",
    "\n",
    "    # x, y, z값 \n",
    "    xpos = [-10000,-1500,500]\n",
    "    ypos = [10000,9000,5000]\n",
    "    zpos = [0,0,0]\n",
    "\n",
    "    # delta x, y, z 값\n",
    "    dx = [4000,2000,1000]\n",
    "    dy = [10000,11000,15000]\n",
    "    dz = [2000,2000,2000]\n",
    "\n",
    "    #그래프 만들기\n",
    "    pose_ax.bar3d(xpos,ypos,zpos,dx,dy,dz,'#7f7f7f',alpha=0.2) #,color='#00ceaa'(초록색) 기본값은 파란색\n",
    "    pose_ax.set_title('6F')\n",
    "    pose_ax.set_xlabel('x axis')\n",
    "    pose_ax.set_ylabel('y axis')\n",
    "    pose_ax.set_zlabel('z axis')\n",
    "\n",
    "    '''#2\n",
    "    pose_ax = fig.add_subplot(1, 2, 2, projection='3d')\n",
    "    pose_ax.view_init(5, -85)\n",
    "    pose_ax.set_xlim3d(-1500, 1500)\n",
    "    pose_ax.set_zlim3d(-500, 1500)\n",
    "    pose_ax.set_ylim3d(0, 3000)'''\n",
    "\n",
    "\n",
    "\n",
    "    # Matplotlib plots the Z axis as vertical, but our poses have Y as the vertical axis.\n",
    "    # Therefore, we do a 90° rotation around the X axis:\n",
    "    poses3d[..., 1], poses3d[..., 2] = poses3d[..., 2], -poses3d[..., 1] \n",
    "    a=np.ones(24)*(0)\n",
    "    b=np.ones(24)*(+19000)\n",
    "    c=np.ones(24)*(+2300)\n",
    "    shift=np.row_stack((a,b,c))\n",
    "    \n",
    "\n",
    "    for pose3d, pose2d in zip(poses3d, poses2d):\n",
    "        \n",
    "        pose3d=rotation1@pose3d.T\n",
    "        pose3d=pose3d+shift\n",
    "\n",
    "        for i_start, i_end in edges:\n",
    "            image_ax.plot(*zip(pose2d[i_start], pose2d[i_end]), marker='o', markersize=2)\n",
    "            pose_ax.plot(*zip(pose3d.T[i_start], pose3d.T[i_end]), marker='o', markersize=2)\n",
    "        \n",
    "        image_ax.scatter(*pose2d.T, s=2)\n",
    "        pose_ax.scatter(*pose3d, s=2)\n",
    "\n",
    "    fig.tight_layout()\n",
    "    plt.show()\n",
    "\n",
    "visualize(\n",
    "    image2, \n",
    "    pred2['boxes'].numpy(),\n",
    "    pred2['poses3d'].numpy(),\n",
    "    pred2['poses2d'].numpy(),\n",
    "    model.per_skeleton_joint_edges['smpl_24'].numpy())"
   ]
  },
  {
   "cell_type": "code",
   "execution_count": 51,
   "metadata": {},
   "outputs": [
    {
     "name": "stdout",
     "output_type": "stream",
     "text": [
      "[[-1814.55286056 -1875.14391706 -1750.00278447 -1794.58464213\n",
      "  -1942.36906373 -1690.35034878 -1812.03765136 -1879.13116624\n",
      "  -1628.6159837  -1843.56264158 -1947.61216095 -1637.71918878\n",
      "  -1888.95458988 -1928.99913414 -1796.19232859 -1934.00415971\n",
      "  -2016.26092    -1728.40383898 -2022.75262541 -1627.16864819\n",
      "  -2100.16265553 -1613.82932331 -2135.21386827 -1610.28781597]\n",
      " [23233.12556898 23187.20276948 23248.50267898 23225.45937036\n",
      "  23199.36428377 23169.65689938 23276.91552206 23108.703112\n",
      "  22938.92809845 23316.46713128 23137.95949654 22996.55467447\n",
      "  23359.58735157 23281.38846472 23385.18260227 23426.87944415\n",
      "  23214.14231741 23444.84963238 23105.60784848 23437.77067048\n",
      "  23106.28523474 23493.15012285 23108.21469077 23528.92269011]\n",
      " [ -725.49895148  -812.46767163  -834.47182358  -607.04411873\n",
      "  -1116.97143976 -1157.48437259  -455.70627784 -1487.97396406\n",
      "  -1432.362111    -430.01702699 -1568.68330166 -1545.3581761\n",
      "   -203.59498814  -292.59256934  -302.07064256  -169.19940941\n",
      "   -291.87120714  -318.35341548  -530.13827618  -565.43268028\n",
      "   -745.12411776  -785.57582336  -825.9986117   -883.75006079]]\n"
     ]
    }
   ],
   "source": [
    "##3\n",
    "import matplotlib.pyplot as plt\n",
    "from matplotlib.patches import Rectangle\n",
    "from mpl_toolkits.mplot3d import Axes3D\n",
    "import numpy as np \n",
    "\n",
    "def visualize(im, detections, poses3d, poses2d, edges):\n",
    "    fig = plt.figure(figsize=(10, 5.2))\n",
    "    image_ax = fig.add_subplot(1, 2, 1)\n",
    "    image_ax.imshow(image3)\n",
    "    for x, y, w, h in detections[:, :4]:\n",
    "        image_ax.add_patch(Rectangle((x, y), w, h, fill=False))\n",
    "    \n",
    "\n",
    "    pose_ax = fig.add_subplot(1, 2, 2, projection='3d')\n",
    "    pose_ax.view_init(14, -76)\n",
    "    pose_ax.set_xlim3d(-10000, 1500)\n",
    "    pose_ax.set_zlim3d(0, 6000)\n",
    "    pose_ax.set_ylim3d(0, 20000)\n",
    "\n",
    "\n",
    "    # x, y, z값 \n",
    "    xpos = [-10000,-1500,500]\n",
    "    ypos = [10000,9000,5000]\n",
    "    zpos = [0,0,0]\n",
    "\n",
    "    # delta x, y, z 값\n",
    "    dx = [4000,2000,1000]\n",
    "    dy = [10000,11000,15000]\n",
    "    dz = [2000,2000,2000]\n",
    "\n",
    "    #그래프 만들기\n",
    "    pose_ax.bar3d(xpos,ypos,zpos,dx,dy,dz,'#7f7f7f',alpha=0.2) #,color='#00ceaa'(초록색) 기본값은 파란색\n",
    "    pose_ax.set_title('6F')\n",
    "    pose_ax.set_xlabel('x axis')\n",
    "    pose_ax.set_ylabel('y axis')\n",
    "    pose_ax.set_zlabel('z axis')\n",
    "\n",
    "    '''#2\n",
    "    pose_ax = fig.add_subplot(1, 2, 2, projection='3d')\n",
    "    pose_ax.view_init(5, -85)\n",
    "    pose_ax.set_xlim3d(-1500, 1500)\n",
    "    pose_ax.set_zlim3d(-500, 1500)\n",
    "    pose_ax.set_ylim3d(0, 3000)'''\n",
    "\n",
    "\n",
    "\n",
    "    # Matplotlib plots the Z axis as vertical, but our poses have Y as the vertical axis.\n",
    "    # Therefore, we do a 90° rotation around the X axis:\n",
    "    poses3d[..., 1], poses3d[..., 2] = poses3d[..., 2], -poses3d[..., 1] \n",
    "    a=np.ones(24)*(0)\n",
    "    b=np.ones(24)*(+19000)\n",
    "    c=np.ones(24)*(+2300)\n",
    "    shift=np.row_stack((a,b,c))\n",
    "    \n",
    "\n",
    "    for pose3d, pose2d in zip(poses3d, poses2d):\n",
    "        \n",
    "        pose3d=rotation1@pose3d.T\n",
    "        pose3d=pose3d+shift\n",
    "        print(pose3d)\n",
    "        for i_start, i_end in edges:\n",
    "            image_ax.plot(*zip(pose2d[i_start], pose2d[i_end]), marker='o', markersize=2)\n",
    "            pose_ax.plot(*zip(pose3d.T[i_start], pose3d.T[i_end]), marker='o', markersize=2)\n",
    "        image_ax.scatter(*pose2d.T, s=2)\n",
    "        pose_ax.scatter(*pose3d, s=2)\n",
    "        pose_ax.text(pose3d[0][14],pose3d[1][14],pose3d[2][14],\"camera\",color = 'blue')\n",
    "\n",
    "    fig.tight_layout()\n",
    "    plt.show()\n",
    "\n",
    "visualize(\n",
    "    image3, \n",
    "    pred3['boxes'].numpy(),\n",
    "    pred3['poses3d'].numpy(),\n",
    "    pred3['poses2d'].numpy(),\n",
    "    model.per_skeleton_joint_edges['smpl_24'].numpy())"
   ]
  },
  {
   "cell_type": "code",
   "execution_count": 49,
   "metadata": {},
   "outputs": [
    {
     "data": {
      "text/plain": [
       "array([[[-301.325    ],\n",
       "        [-320.25     ],\n",
       "        [-196.575    ],\n",
       "        [-333.35     ],\n",
       "        [-252.45     ],\n",
       "        [  -7.3835936],\n",
       "        [-412.25     ],\n",
       "        [ -39.935158 ],\n",
       "        [ 161.       ],\n",
       "        [-451.05     ],\n",
       "        [ -67.47813  ],\n",
       "        [ 201.35     ],\n",
       "        [-587.1      ],\n",
       "        [-587.05     ],\n",
       "        [-461.05     ],\n",
       "        [-641.4      ],\n",
       "        [-667.5      ],\n",
       "        [-391.8      ],\n",
       "        [-574.5      ],\n",
       "        [-195.85     ],\n",
       "        [-553.9      ],\n",
       "        [ -89.9625   ],\n",
       "        [-551.5      ],\n",
       "        [ -44.75     ]],\n",
       "\n",
       "       [[-476.3      ],\n",
       "        [-369.9      ],\n",
       "        [-435.       ],\n",
       "        [-553.75     ],\n",
       "        [-160.8875   ],\n",
       "        [-186.9625   ],\n",
       "        [-683.2      ],\n",
       "        [ 125.60625  ],\n",
       "        [ 135.775    ],\n",
       "        [-718.5      ],\n",
       "        [ 177.4625   ],\n",
       "        [ 171.45     ],\n",
       "        [-882.8      ],\n",
       "        [-758.4      ],\n",
       "        [-863.7      ],\n",
       "        [-939.3      ],\n",
       "        [-686.3      ],\n",
       "        [-914.7      ],\n",
       "        [-453.3      ],\n",
       "        [-778.5      ],\n",
       "        [-291.475    ],\n",
       "        [-678.1      ],\n",
       "        [-230.05     ],\n",
       "        [-640.4      ]],\n",
       "\n",
       "       [[5481.6      ],\n",
       "        [5522.4      ],\n",
       "        [5541.6      ],\n",
       "        [5395.2      ],\n",
       "        [5744.       ],\n",
       "        [5671.2      ],\n",
       "        [5341.6      ],\n",
       "        [5894.4      ],\n",
       "        [5661.6      ],\n",
       "        [5363.2      ],\n",
       "        [5987.2      ],\n",
       "        [5776.8      ],\n",
       "        [5264.8      ],\n",
       "        [5277.6      ],\n",
       "        [5316.8      ],\n",
       "        [5304.8      ],\n",
       "        [5256.       ],\n",
       "        [5348.8      ],\n",
       "        [5331.2      ],\n",
       "        [5468.8      ],\n",
       "        [5491.2      ],\n",
       "        [5643.2      ],\n",
       "        [5554.4      ],\n",
       "        [5729.6      ]]], dtype=float32)"
      ]
     },
     "execution_count": 49,
     "metadata": {},
     "output_type": "execute_result"
    }
   ],
   "source": [
    "pred3['poses3d'].numpy().T"
   ]
  },
  {
   "cell_type": "code",
   "execution_count": null,
   "metadata": {},
   "outputs": [],
   "source": []
  },
  {
   "cell_type": "code",
   "execution_count": null,
   "metadata": {},
   "outputs": [],
   "source": []
  },
  {
   "cell_type": "code",
   "execution_count": null,
   "metadata": {},
   "outputs": [],
   "source": []
  },
  {
   "cell_type": "code",
   "execution_count": null,
   "metadata": {},
   "outputs": [],
   "source": []
  }
 ],
 "metadata": {
  "kernelspec": {
   "display_name": "Python 3.9.12 ('metrabs': venv)",
   "language": "python",
   "name": "python3"
  },
  "language_info": {
   "codemirror_mode": {
    "name": "ipython",
    "version": 3
   },
   "file_extension": ".py",
   "mimetype": "text/x-python",
   "name": "python",
   "nbconvert_exporter": "python",
   "pygments_lexer": "ipython3",
   "version": "3.9.12"
  },
  "orig_nbformat": 4,
  "vscode": {
   "interpreter": {
    "hash": "c298febc1624e7004931ab9f383ad905d2d16c4d941da8fb932c4c60d1425215"
   }
  }
 },
 "nbformat": 4,
 "nbformat_minor": 2
}

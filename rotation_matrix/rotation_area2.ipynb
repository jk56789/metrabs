{
 "cells": [
  {
   "cell_type": "code",
   "execution_count": 1,
   "metadata": {},
   "outputs": [],
   "source": [
    "#여기 코드가 가장 중요하다. 위의 코드를 사용하면 matplot창을 띄워주고\n",
    "# 아래의 코드를 사용하면 파이썬에서 첫번째 이미지만 보여준다.\n",
    "\n",
    "\n",
    "#%matplotlib qt\n",
    "\n",
    "%matplotlib inline"
   ]
  },
  {
   "cell_type": "code",
   "execution_count": 2,
   "metadata": {},
   "outputs": [
    {
     "name": "stderr",
     "output_type": "stream",
     "text": [
      "'wget'��(��) ���� �Ǵ� �ܺ� ����, ������ �� �ִ� ���α׷�, �Ǵ�\n",
      "��ġ ������ �ƴմϴ�.\n"
     ]
    }
   ],
   "source": [
    "import tensorflow as tf\n",
    "import os\n",
    "\n",
    "def download_model(model_type):\n",
    "    server_prefix = 'https://omnomnom.vision.rwth-aachen.de/data/metrabs'\n",
    "    model_zippath = tf.keras.utils.get_file(\n",
    "        origin=f'{server_prefix}/{model_type}_20211019.zip',\n",
    "        extract=True, cache_subdir='models')\n",
    "    model_path = os.path.join(os.path.dirname(model_zippath), model_type)\n",
    "    return model_path\n",
    "\n",
    "model = tf.saved_model.load(download_model('metrabs_mob3l_y4t')) # or metrabs_eff2l_y4 for the big model\n",
    "! wget -q https://raw.githubusercontent.com/isarandi/metrabs/master/img/test_image_3dpw.jpg\n"
   ]
  },
  {
   "cell_type": "markdown",
   "metadata": {},
   "source": [
    "## area2 이미지 3장 분석\n"
   ]
  },
  {
   "cell_type": "code",
   "execution_count": null,
   "metadata": {},
   "outputs": [],
   "source": [
    "import cv2\n",
    "image1 = cv2.imread('C:/Users/Leeyourack/jookyoung/image/area2/area2_244.jpg')\n",
    "image1 = cv2.cvtColor(image1, cv2.COLOR_BGR2RGB)\n",
    "pred1 = model.detect_poses(image1, skeleton='smpl_24')"
   ]
  },
  {
   "cell_type": "code",
   "execution_count": 110,
   "metadata": {},
   "outputs": [],
   "source": [
    "import cv2\n",
    "image2 = cv2.imread('C:/Users/Leeyourack/jookyoung/image/area2/area2_145.jpg')\n",
    "image2 = cv2.cvtColor(image2, cv2.COLOR_BGR2RGB)\n",
    "pred2 = model.detect_poses(image2, skeleton='smpl_24')"
   ]
  },
  {
   "cell_type": "code",
   "execution_count": 113,
   "metadata": {},
   "outputs": [],
   "source": [
    "import cv2\n",
    "image3 = cv2.imread('C:/Users/Leeyourack/jookyoung/image/area2/area2_230.jpg')\n",
    "image3 = cv2.cvtColor(image3, cv2.COLOR_BGR2RGB)\n",
    "pred3 = model.detect_poses(image3, skeleton='smpl_24')"
   ]
  },
  {
   "cell_type": "markdown",
   "metadata": {},
   "source": [
    "### area2_normal vector"
   ]
  },
  {
   "cell_type": "code",
   "execution_count": 115,
   "metadata": {},
   "outputs": [],
   "source": [
    "poses3d1=pred1['poses3d'].numpy()[0]\n",
    "poses3d1[..., 1], poses3d1[..., 2] = poses3d1[..., 2], -poses3d1[..., 1]"
   ]
  },
  {
   "cell_type": "code",
   "execution_count": 116,
   "metadata": {},
   "outputs": [
    {
     "data": {
      "text/plain": [
       "array([ 760.45, 4092.  , -492.7 ], dtype=float32)"
      ]
     },
     "execution_count": 116,
     "metadata": {},
     "output_type": "execute_result"
    }
   ],
   "source": [
    "a=poses3d1[10]\n",
    "a"
   ]
  },
  {
   "cell_type": "code",
   "execution_count": 117,
   "metadata": {},
   "outputs": [
    {
     "data": {
      "text/plain": [
       "array([439.6   , 441.4   , 548.    , 378.35  , 472.35  , 779.5   ,\n",
       "       278.8   , 723.2   , 847.4   , 254.775 , 760.45  , 926.3   ,\n",
       "       115.0375, 107.6375, 240.375 ,  80.825 ,  28.475 , 314.55  ,\n",
       "       101.95  , 528.1   , 191.875 , 599.9   , 223.    , 653.9   ],\n",
       "      dtype=float32)"
      ]
     },
     "execution_count": 117,
     "metadata": {},
     "output_type": "execute_result"
    }
   ],
   "source": [
    "poses3d1.T[0]"
   ]
  },
  {
   "cell_type": "code",
   "execution_count": 118,
   "metadata": {},
   "outputs": [],
   "source": [
    "poses3d2=pred2['poses3d'].numpy()[0]\n",
    "poses3d2[..., 1], poses3d2[..., 2] = poses3d2[..., 2], -poses3d2[..., 1]"
   ]
  },
  {
   "cell_type": "code",
   "execution_count": 119,
   "metadata": {},
   "outputs": [
    {
     "data": {
      "text/plain": [
       "array([ 151.425, 6094.4  ,  359.45 ], dtype=float32)"
      ]
     },
     "execution_count": 119,
     "metadata": {},
     "output_type": "execute_result"
    }
   ],
   "source": [
    "b=poses3d2[10]\n",
    "b"
   ]
  },
  {
   "cell_type": "code",
   "execution_count": 120,
   "metadata": {},
   "outputs": [],
   "source": [
    "poses3d3=pred3['poses3d'].numpy()[0]\n",
    "poses3d3[..., 1], poses3d3[..., 2] = poses3d3[..., 2], -poses3d3[..., 1]\n",
    " "
   ]
  },
  {
   "cell_type": "code",
   "execution_count": 121,
   "metadata": {},
   "outputs": [
    {
     "data": {
      "text/plain": [
       "array([  567.3,  4154.8, -1113.2], dtype=float32)"
      ]
     },
     "execution_count": 121,
     "metadata": {},
     "output_type": "execute_result"
    }
   ],
   "source": [
    "c=poses3d3[10]\n",
    "c"
   ]
  },
  {
   "cell_type": "code",
   "execution_count": 122,
   "metadata": {},
   "outputs": [
    {
     "name": "stdout",
     "output_type": "stream",
     "text": [
      "[-609.025  2002.3999  852.15  ]\n",
      "[-193.15002    62.799805 -620.49994 ]\n"
     ]
    }
   ],
   "source": [
    "ab = b-a\n",
    "print(ab)\n",
    "ac = c-a\n",
    "print(ac)"
   ]
  },
  {
   "cell_type": "code",
   "execution_count": 123,
   "metadata": {},
   "outputs": [
    {
     "data": {
      "text/plain": [
       "[-1296003.9, -542492.8, 348516.94]"
      ]
     },
     "execution_count": 123,
     "metadata": {},
     "output_type": "execute_result"
    }
   ],
   "source": [
    "list = [ab[1]*ac[2]-ab[2]*ac[1],-(ab[0]*ac[2]-ab[2]*ac[0]),ab[0]*ac[1]-ab[1]*ac[0]]\n",
    "list"
   ]
  },
  {
   "cell_type": "code",
   "execution_count": 124,
   "metadata": {},
   "outputs": [
    {
     "data": {
      "text/plain": [
       "[-12.96003875, -5.424928125, 3.485169375]"
      ]
     },
     "execution_count": 124,
     "metadata": {},
     "output_type": "execute_result"
    }
   ],
   "source": [
    "list = [(ab[1]*ac[2]-ab[2]*ac[1])/100000,\n",
    "        -(ab[0]*ac[2]-ab[2]*ac[0])/100000,\n",
    "            (ab[0]*ac[1]-ab[1]*ac[0])/100000]\n",
    "list"
   ]
  },
  {
   "cell_type": "code",
   "execution_count": 17,
   "metadata": {},
   "outputs": [
    {
     "data": {
      "text/plain": [
       "-2.34740375"
      ]
     },
     "execution_count": 17,
     "metadata": {},
     "output_type": "execute_result"
    }
   ],
   "source": [
    "list[0]"
   ]
  },
  {
   "cell_type": "markdown",
   "metadata": {},
   "source": [
    "### rotation matrix"
   ]
  },
  {
   "cell_type": "code",
   "execution_count": 125,
   "metadata": {},
   "outputs": [
    {
     "name": "stdout",
     "output_type": "stream",
     "text": [
      "x: -12.96003875 y: -5.424928125 z: 3.485169375\n",
      "xy: 14.049642328647288 yz: 6.447964852095109 xz: 13.420469811967816\n",
      "xyz: 14.475456992280261\n"
     ]
    }
   ],
   "source": [
    "x=list[0]\n",
    "y=list[1]\n",
    "z=list[2]\n",
    "print('x:',x, 'y:',y, 'z:',z )\n",
    "xy = (x**2+y**2)**0.5\n",
    "yz = (y**2+z**2)**0.5\n",
    "xz = (x**2+z**2)**0.5\n",
    "print('xy:',xy, 'yz:',yz, 'xz:',xz )\n",
    "\n",
    "xyz = (x**2+y**2+z**2)**0.5\n",
    "print('xyz:',xyz)\n"
   ]
  },
  {
   "cell_type": "code",
   "execution_count": 126,
   "metadata": {},
   "outputs": [
    {
     "name": "stdout",
     "output_type": "stream",
     "text": [
      "-0.7970811770576316 0.6038721695693722\n"
     ]
    }
   ],
   "source": [
    "#z축 회전\n",
    "\n",
    "import math\n",
    "cos1 = math.cos(math.pi/2+abs(x/xy))\n",
    "sin1 = math.sin(math.pi/2+abs(x/xy))\n",
    "\n",
    "\n",
    "print(cos1,sin1)"
   ]
  },
  {
   "cell_type": "code",
   "execution_count": 20,
   "metadata": {},
   "outputs": [
    {
     "data": {
      "text/plain": [
       "6.123233995736766e-17"
      ]
     },
     "execution_count": 20,
     "metadata": {},
     "output_type": "execute_result"
    }
   ],
   "source": [
    "math.cos(math.pi/2)"
   ]
  },
  {
   "cell_type": "code",
   "execution_count": 127,
   "metadata": {},
   "outputs": [
    {
     "name": "stdout",
     "output_type": "stream",
     "text": [
      "0.825215527282814 -0.564817964950963\n"
     ]
    }
   ],
   "source": [
    "#y축 회전\n",
    "import math\n",
    "cos2 = math.cos(math.pi/2-abs(xy/xyz))\n",
    "sin2 = math.sin(math.pi/2-abs(xy/xyz))\n",
    "sin2 = -sin2\n",
    "\n",
    "print(cos2,sin2)"
   ]
  },
  {
   "cell_type": "code",
   "execution_count": 22,
   "metadata": {},
   "outputs": [
    {
     "data": {
      "text/plain": [
       "6.123233995736766e-17"
      ]
     },
     "execution_count": 22,
     "metadata": {},
     "output_type": "execute_result"
    }
   ],
   "source": [
    "import math\n",
    "math.cos(math.pi*1/2)"
   ]
  },
  {
   "cell_type": "code",
   "execution_count": 23,
   "metadata": {},
   "outputs": [],
   "source": [
    "import numpy as np\n",
    "\n",
    "r1 = np.array([[cos1,-sin1,0], #z축 회전\n",
    "                [sin1,cos1,0],\n",
    "                [0,0,1]])\n",
    "r2 = np.array([[cos2,0,sin2],\n",
    "                [0,1,0],\n",
    "                [-sin2,0,cos2]])        #y축 회전\n",
    "r3 = np.array([[0,1,0], #z축 회전\n",
    "                [-1,0,0],\n",
    "                [0,0,1]])\n",
    "                "
   ]
  },
  {
   "cell_type": "code",
   "execution_count": 128,
   "metadata": {},
   "outputs": [],
   "source": [
    "import numpy as np\n",
    "\n",
    "r1 = np.array([[cos1,-sin1,0],          #z축 회전\n",
    "                [sin1,cos1,0],\n",
    "                [0,0,1]])\n",
    "r2 = np.array([[cos2,0,sin2],           #y축 회전\n",
    "                [0,1,0],\n",
    "                [-sin2,0,cos2]])        \n",
    "r3 = np.array([[math.cos(math.pi*1/1.6),math.sin(math.pi*1/1.6),0],                 #z축 회전\n",
    "                [-math.sin(math.pi*1/1.6),math.cos(math.pi*1/1.6),0],\n",
    "                [0,0,1]])"
   ]
  },
  {
   "cell_type": "code",
   "execution_count": 25,
   "metadata": {},
   "outputs": [
    {
     "data": {
      "text/plain": [
       "array([[-0.38268343,  0.92387953,  0.        ],\n",
       "       [-0.92387953, -0.38268343,  0.        ],\n",
       "       [ 0.        ,  0.        ,  1.        ]])"
      ]
     },
     "execution_count": 25,
     "metadata": {},
     "output_type": "execute_result"
    }
   ],
   "source": [
    "r3"
   ]
  },
  {
   "cell_type": "code",
   "execution_count": 129,
   "metadata": {},
   "outputs": [
    {
     "data": {
      "text/plain": [
       "array([[-0.65776376, -0.49832469, -0.56481796],\n",
       "       [ 0.60387217, -0.79708118,  0.        ],\n",
       "       [-0.45020577, -0.34107785,  0.82521553]])"
      ]
     },
     "execution_count": 129,
     "metadata": {},
     "output_type": "execute_result"
    }
   ],
   "source": [
    "rotation1 = r2@r1\n",
    "rotation1"
   ]
  },
  {
   "cell_type": "markdown",
   "metadata": {},
   "source": [
    "## 변환행렬 적용 전"
   ]
  },
  {
   "cell_type": "code",
   "execution_count": 130,
   "metadata": {},
   "outputs": [],
   "source": [
    "# 변환적용 전\n",
    "\n",
    "import matplotlib.pyplot as plt\n",
    "from matplotlib.patches import Rectangle\n",
    "from mpl_toolkits.mplot3d import Axes3D\n",
    "import numpy as np \n",
    "\n",
    "def visualize(im, detections, poses3d, poses2d, edges):\n",
    "    fig = plt.figure(figsize=(10, 5.2))\n",
    "    image_ax = fig.add_subplot(1, 2, 1)\n",
    "    image_ax.imshow(image1)\n",
    "    for x, y, w, h in detections[:, :4]:\n",
    "        image_ax.add_patch(Rectangle((x, y), w, h, fill=False))\n",
    "    \n",
    "\n",
    "    pose_ax = fig.add_subplot(1, 2, 2, projection='3d')\n",
    "    pose_ax.view_init(14, -76)\n",
    "    pose_ax.set_xlim3d(-10000, 1500)\n",
    "    pose_ax.set_zlim3d(0, 6000)\n",
    "    pose_ax.set_ylim3d(0, 20000)\n",
    "\n",
    "\n",
    "    # x, y, z값 \n",
    "    xpos = [-10000,-1500,500]\n",
    "    ypos = [10000,9000,5000]\n",
    "    zpos = [0,0,0]\n",
    "\n",
    "    # delta x, y, z 값\n",
    "    dx = [4000,2000,1000]\n",
    "    dy = [10000,11000,15000]\n",
    "    dz = [2000,2000,2000]\n",
    "\n",
    "    #그래프 만들기\n",
    "    pose_ax.bar3d(xpos,ypos,zpos,dx,dy,dz,'#7f7f7f',alpha=0.2) #,color='#00ceaa'(초록색) 기본값은 파란색\n",
    "    pose_ax.set_title('6F')\n",
    "    pose_ax.set_xlabel('x axis')\n",
    "    pose_ax.set_ylabel('y axis')\n",
    "    pose_ax.set_zlabel('z axis')\n",
    "\n",
    "    '''#2\n",
    "    pose_ax = fig.add_subplot(1, 2, 2, projection='3d')\n",
    "    pose_ax.view_init(5, -85)\n",
    "    pose_ax.set_xlim3d(-1500, 1500)\n",
    "    pose_ax.set_zlim3d(-500, 1500)\n",
    "    pose_ax.set_ylim3d(0, 3000)'''\n",
    "\n",
    "\n",
    "\n",
    "    # Matplotlib plots the Z axis as vertical, but our poses have Y as the vertical axis.\n",
    "    # Therefore, we do a 90° rotation around the X axis:\n",
    "    poses3d[..., 1], poses3d[..., 2] = poses3d[..., 2], -poses3d[..., 1] \n",
    "    '''a=np.ones(24)*(-6000)\n",
    "    b=np.ones(24)\n",
    "    c=np.ones(24)*(-2700)\n",
    "    shift=np.row_stack((a,b,c))'''\n",
    "    \n",
    "\n",
    "    for pose3d, pose2d in zip(poses3d, poses2d):\n",
    "        #p1=pose3d.T+shift\n",
    "        #pose3d=rotation1@pose3d.T\n",
    "        #pose3d=pose3d+shift\n",
    "        for i_start, i_end in edges:\n",
    "            image_ax.plot(*zip(pose2d[i_start], pose2d[i_end]), marker='o', markersize=2)\n",
    "            pose_ax.plot(*zip(pose3d[i_start], pose3d[i_end]), marker='o', markersize=2)\n",
    "        image_ax.scatter(*pose2d.T, s=2)\n",
    "        pose_ax.scatter(*pose3d.T, s=2)\n",
    "\n",
    "    fig.tight_layout()\n",
    "    plt.show()\n",
    "\n",
    "visualize(\n",
    "    image1, \n",
    "    pred1['boxes'].numpy(),\n",
    "    pred1['poses3d'].numpy(),\n",
    "    pred1['poses2d'].numpy(),\n",
    "    model.per_skeleton_joint_edges['smpl_24'].numpy())"
   ]
  },
  {
   "cell_type": "markdown",
   "metadata": {},
   "source": [
    "## 변환행렬 적용 후"
   ]
  },
  {
   "cell_type": "code",
   "execution_count": 132,
   "metadata": {},
   "outputs": [],
   "source": [
    "##1\n",
    "import matplotlib.pyplot as plt\n",
    "from matplotlib.patches import Rectangle\n",
    "from mpl_toolkits.mplot3d import Axes3D\n",
    "import numpy as np \n",
    "\n",
    "def visualize(im, detections, poses3d, poses2d, edges):\n",
    "    fig = plt.figure(figsize=(10, 5.2))\n",
    "    image_ax = fig.add_subplot(1, 2, 1)\n",
    "    image_ax.imshow(image1)\n",
    "    for x, y, w, h in detections[:, :4]:\n",
    "        image_ax.add_patch(Rectangle((x, y), w, h, fill=False))\n",
    "    \n",
    "\n",
    "    pose_ax = fig.add_subplot(1, 2, 2, projection='3d')\n",
    "    pose_ax.view_init(14, -76)\n",
    "    pose_ax.set_xlim3d(-10000, 1500)\n",
    "    pose_ax.set_zlim3d(0, 6000)\n",
    "    pose_ax.set_ylim3d(0, 20000)\n",
    "\n",
    "\n",
    "    # x, y, z값 \n",
    "    xpos = [-10000,-1500,500]\n",
    "    ypos = [10000,9000,5000]\n",
    "    zpos = [0,0,0]\n",
    "\n",
    "    # delta x, y, z 값\n",
    "    dx = [4000,2000,1000]\n",
    "    dy = [10000,11000,15000]\n",
    "    dz = [2000,2000,2000]\n",
    "\n",
    "    #그래프 만들기\n",
    "    pose_ax.bar3d(xpos,ypos,zpos,dx,dy,dz,'#7f7f7f',alpha=0.2) #,color='#00ceaa'(초록색) 기본값은 파란색\n",
    "    pose_ax.set_title('6F')\n",
    "    pose_ax.set_xlabel('x axis')\n",
    "    pose_ax.set_ylabel('y axis')\n",
    "    pose_ax.set_zlabel('z axis')\n",
    "\n",
    "    '''#2\n",
    "    pose_ax = fig.add_subplot(1, 2, 2, projection='3d')\n",
    "    pose_ax.view_init(5, -85)\n",
    "    pose_ax.set_xlim3d(-1500, 1500)\n",
    "    pose_ax.set_zlim3d(-500, 1500)\n",
    "    pose_ax.set_ylim3d(0, 3000)'''\n",
    "\n",
    "\n",
    "\n",
    "    # Matplotlib plots the Z axis as vertical, but our poses have Y as the vertical axis.\n",
    "    # Therefore, we do a 90° rotation around the X axis:\n",
    "    poses3d[..., 1], poses3d[..., 2] = poses3d[..., 2], -poses3d[..., 1] \n",
    "    a=np.ones(24)*(0)\n",
    "    b=np.ones(24)*(+19000)\n",
    "    c=np.ones(24)*(+2300)\n",
    "    shift=np.row_stack((a,b,c))\n",
    "    \n",
    "\n",
    "    for pose3d, pose2d in zip(poses3d, poses2d):\n",
    "        \n",
    "        pose3d=rotation1@pose3d.T\n",
    "        pose3d=pose3d+shift\n",
    "\n",
    "        for i_start, i_end in edges:\n",
    "            image_ax.plot(*zip(pose2d[i_start], pose2d[i_end]), marker='o', markersize=2)\n",
    "            pose_ax.plot(*zip(pose3d.T[i_start], pose3d.T[i_end]), marker='o', markersize=2)\n",
    "        \n",
    "        image_ax.scatter(*pose2d.T, s=2)\n",
    "        pose_ax.scatter(*pose3d, s=2)\n",
    "\n",
    "    fig.tight_layout()\n",
    "    plt.show()\n",
    "\n",
    "visualize(\n",
    "    image1, \n",
    "    pred1['boxes'].numpy(),\n",
    "    pred1['poses3d'].numpy(),\n",
    "    pred1['poses2d'].numpy(),\n",
    "    model.per_skeleton_joint_edges['smpl_24'].numpy())"
   ]
  },
  {
   "cell_type": "code",
   "execution_count": 76,
   "metadata": {},
   "outputs": [],
   "source": [
    "##2\n",
    "import matplotlib.pyplot as plt\n",
    "from matplotlib.patches import Rectangle\n",
    "from mpl_toolkits.mplot3d import Axes3D\n",
    "import numpy as np \n",
    "\n",
    "def visualize(im, detections, poses3d, poses2d, edges):\n",
    "    fig = plt.figure(figsize=(10, 5.2))\n",
    "    image_ax = fig.add_subplot(1, 2, 1)\n",
    "    image_ax.imshow(image2)\n",
    "    for x, y, w, h in detections[:, :4]:\n",
    "        image_ax.add_patch(Rectangle((x, y), w, h, fill=False))\n",
    "    \n",
    "\n",
    "    pose_ax = fig.add_subplot(1, 2, 2, projection='3d')\n",
    "    pose_ax.view_init(14, -76)\n",
    "    pose_ax.set_xlim3d(-10000, 1500)\n",
    "    pose_ax.set_zlim3d(0, 6000)\n",
    "    pose_ax.set_ylim3d(0, 20000)\n",
    "\n",
    "\n",
    "    # x, y, z값 \n",
    "    xpos = [-10000,-1500,500]\n",
    "    ypos = [10000,9000,5000]\n",
    "    zpos = [0,0,0]\n",
    "\n",
    "    # delta x, y, z 값\n",
    "    dx = [4000,2000,1000]\n",
    "    dy = [10000,11000,15000]\n",
    "    dz = [2000,2000,2000]\n",
    "\n",
    "    #그래프 만들기\n",
    "    pose_ax.bar3d(xpos,ypos,zpos,dx,dy,dz,'#7f7f7f',alpha=0.2) #,color='#00ceaa'(초록색) 기본값은 파란색\n",
    "    pose_ax.set_title('6F')\n",
    "    pose_ax.set_xlabel('x axis')\n",
    "    pose_ax.set_ylabel('y axis')\n",
    "    pose_ax.set_zlabel('z axis')\n",
    "\n",
    "    '''#2\n",
    "    pose_ax = fig.add_subplot(1, 2, 2, projection='3d')\n",
    "    pose_ax.view_init(5, -85)\n",
    "    pose_ax.set_xlim3d(-1500, 1500)\n",
    "    pose_ax.set_zlim3d(-500, 1500)\n",
    "    pose_ax.set_ylim3d(0, 3000)'''\n",
    "\n",
    "\n",
    "\n",
    "    # Matplotlib plots the Z axis as vertical, but our poses have Y as the vertical axis.\n",
    "    # Therefore, we do a 90° rotation around the X axis:\n",
    "    poses3d[..., 1], poses3d[..., 2] = poses3d[..., 2], -poses3d[..., 1] \n",
    "    a=np.ones(24)*(-11000)\n",
    "    b=np.ones(24)*(+4000)\n",
    "    c=np.ones(24)*(+2500)\n",
    "    shift=np.row_stack((a,b,c))\n",
    "    \n",
    "\n",
    "    for pose3d, pose2d in zip(poses3d, poses2d):\n",
    "        \n",
    "        pose3d=rotation1@pose3d.T\n",
    "        pose3d=pose3d+shift\n",
    "\n",
    "        for i_start, i_end in edges:\n",
    "            image_ax.plot(*zip(pose2d[i_start], pose2d[i_end]), marker='o', markersize=2)\n",
    "            pose_ax.plot(*zip(pose3d.T[i_start], pose3d.T[i_end]), marker='o', markersize=2)\n",
    "        \n",
    "        image_ax.scatter(*pose2d.T, s=2)\n",
    "        pose_ax.scatter(*pose3d, s=2)\n",
    "\n",
    "    fig.tight_layout()\n",
    "    plt.show()\n",
    "\n",
    "visualize(\n",
    "    image2, \n",
    "    pred2['boxes'].numpy(),\n",
    "    pred2['poses3d'].numpy(),\n",
    "    pred2['poses2d'].numpy(),\n",
    "    model.per_skeleton_joint_edges['smpl_24'].numpy())"
   ]
  },
  {
   "cell_type": "code",
   "execution_count": 30,
   "metadata": {},
   "outputs": [],
   "source": [
    "##3\n",
    "import matplotlib.pyplot as plt\n",
    "from matplotlib.patches import Rectangle\n",
    "from mpl_toolkits.mplot3d import Axes3D\n",
    "import numpy as np \n",
    "\n",
    "def visualize(im, detections, poses3d, poses2d, edges):\n",
    "    fig = plt.figure(figsize=(10, 5.2))\n",
    "    image_ax = fig.add_subplot(1, 2, 1)\n",
    "    image_ax.imshow(image3)\n",
    "    for x, y, w, h in detections[:, :4]:\n",
    "        image_ax.add_patch(Rectangle((x, y), w, h, fill=False))\n",
    "    \n",
    "\n",
    "    pose_ax = fig.add_subplot(1, 2, 2, projection='3d')\n",
    "    pose_ax.view_init(14, -76)\n",
    "    pose_ax.set_xlim3d(-10000, 1500)\n",
    "    pose_ax.set_zlim3d(0, 6000)\n",
    "    pose_ax.set_ylim3d(0, 20000)\n",
    "\n",
    "\n",
    "    # x, y, z값 \n",
    "    xpos = [-10000,-1500,500]\n",
    "    ypos = [10000,9000,5000]\n",
    "    zpos = [0,0,0]\n",
    "\n",
    "    # delta x, y, z 값\n",
    "    dx = [4000,2000,1000]\n",
    "    dy = [10000,11000,15000]\n",
    "    dz = [2000,2000,2000]\n",
    "\n",
    "    #그래프 만들기\n",
    "    pose_ax.bar3d(xpos,ypos,zpos,dx,dy,dz,'#7f7f7f',alpha=0.2) #,color='#00ceaa'(초록색) 기본값은 파란색\n",
    "    pose_ax.set_title('6F')\n",
    "    pose_ax.set_xlabel('x axis')\n",
    "    pose_ax.set_ylabel('y axis')\n",
    "    pose_ax.set_zlabel('z axis')\n",
    "\n",
    "    '''#2\n",
    "    pose_ax = fig.add_subplot(1, 2, 2, projection='3d')\n",
    "    pose_ax.view_init(5, -85)\n",
    "    pose_ax.set_xlim3d(-1500, 1500)\n",
    "    pose_ax.set_zlim3d(-500, 1500)\n",
    "    pose_ax.set_ylim3d(0, 3000)'''\n",
    "\n",
    "\n",
    "\n",
    "    # Matplotlib plots the Z axis as vertical, but our poses have Y as the vertical axis.\n",
    "    # Therefore, we do a 90° rotation around the X axis:\n",
    "    poses3d[..., 1], poses3d[..., 2] = poses3d[..., 2], -poses3d[..., 1] \n",
    "    a=np.ones(24)*(-11000)\n",
    "    b=np.ones(24)*(+4000)\n",
    "    c=np.ones(24)*(+2500)\n",
    "    shift=np.row_stack((a,b,c))\n",
    "    \n",
    "\n",
    "    for pose3d, pose2d in zip(poses3d, poses2d):\n",
    "        \n",
    "        pose3d=rotation1@pose3d.T\n",
    "        pose3d=pose3d+shift\n",
    "        for i_start, i_end in edges:\n",
    "            image_ax.plot(*zip(pose2d[i_start], pose2d[i_end]), marker='o', markersize=2)\n",
    "            pose_ax.plot(*zip(pose3d.T[i_start], pose3d.T[i_end]), marker='o', markersize=2)\n",
    "        image_ax.scatter(*pose2d.T, s=2)\n",
    "        pose_ax.scatter(*pose3d, s=2)\n",
    "\n",
    "    fig.tight_layout()\n",
    "    plt.show()\n",
    "\n",
    "visualize(\n",
    "    image3, \n",
    "    pred3['boxes'].numpy(),\n",
    "    pred3['poses3d'].numpy(),\n",
    "    pred3['poses2d'].numpy(),\n",
    "    model.per_skeleton_joint_edges['smpl_24'].numpy())"
   ]
  }
 ],
 "metadata": {
  "kernelspec": {
   "display_name": "Python 3.9.12 ('metrabs': venv)",
   "language": "python",
   "name": "python3"
  },
  "language_info": {
   "codemirror_mode": {
    "name": "ipython",
    "version": 3
   },
   "file_extension": ".py",
   "mimetype": "text/x-python",
   "name": "python",
   "nbconvert_exporter": "python",
   "pygments_lexer": "ipython3",
   "version": "3.9.12"
  },
  "orig_nbformat": 4,
  "vscode": {
   "interpreter": {
    "hash": "c298febc1624e7004931ab9f383ad905d2d16c4d941da8fb932c4c60d1425215"
   }
  }
 },
 "nbformat": 4,
 "nbformat_minor": 2
}

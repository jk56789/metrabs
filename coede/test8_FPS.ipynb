{
 "cells": [
  {
   "cell_type": "code",
   "execution_count": 2,
   "metadata": {},
   "outputs": [],
   "source": [
    "import cv2\n",
    "import time\n",
    "\n",
    "video = cv2.VideoCapture(0)\t\t\t# WebCam의 경우 0 또는 1\n",
    "\t\t\t\t\t\t# 비디오 파일의 경우 '경로/파일명.확장자'\n",
    "FPS = 10\n",
    "prev_time = 0\n",
    "\n",
    "while True:\n",
    "\t\n",
    "    ret, frame = video.read()\n",
    "\n",
    "    current_time = time.time() - prev_time\n",
    "\n",
    "    if (ret is True) and (current_time > 1./ FPS) :\n",
    "    \t\n",
    "        prev_time = time.time()\n",
    "        \n",
    "        cv2.imshow('VideoCapture', frame)\n",
    "    \t\n",
    "        if cv2.waitKey(1) > 0 :\n",
    "            \n",
    "            break"
   ]
  },
  {
   "cell_type": "code",
   "execution_count": null,
   "metadata": {},
   "outputs": [],
   "source": [
    "\n",
    "# 카메라 1대\n",
    "cap = cv2.VideoCapture('C:/Users/Leeyourack/jookyoung/video/2.detect_video/peo2.avi')\n",
    "width = cap.get(cv2.CAP_PROP_FRAME_WIDTH)\n",
    "height = cap.get(cv2.CAP_PROP_FRAME_HEIGHT)\n",
    "fourcc = cv2.VideoWriter_fourcc(*'DIVX')\n",
    "out = cv2.VideoWriter('C:/Users/Leeyourack/jookyoung/video/2.detect_video/result2.avi', fourcc, 29, (int(width),int(height)))\n",
    "ROI_image = cv2.imread('C:/Users/Leeyourack/jookyoung/image/0.ROI_image/pre_image_final.jpg')\n",
    "\n",
    "while cap.isOpened():\n",
    "    ret, frame = cap.read() \n",
    "\n",
    "    img = frame.copy()\n",
    "\n",
    "    # prdeiction\n",
    "    results = model.detect_poses(img, skeleton='smpl_24')\n",
    "    keypoints_with = results['poses2d'].numpy()\n",
    "\n",
    "    # render keypoints\n",
    "    loop_through_people(frame, keypoints_with)\n",
    "    foot_xy = results['poses2d'].numpy()[:,23]\n",
    "    \n",
    "    for i, xy in enumerate(foot_xy):\n",
    "        trans_foot = M2@(xy[0], xy[1], 1)\n",
    "        trans_foot = trans_foot/trans_foot[2]\n",
    "        trans_x = trans_foot[0]\n",
    "        trans_y = trans_foot[1]\n",
    "        \n",
    "        \n",
    "        #if trans_x<445 and trans_x>185 and trans_y > 245 and trans_y < 411: #after1 = np.float32([[185,245],[440,270],[445,411],[190,395]])\n",
    "\n",
    "        if trans_x < 383 and trans_x > 291 and trans_y > 81 and trans_y < 235: #after2 = np.float32([[291,81],[291,235],[383,235],[383,81]])\n",
    "        #if trans_x<432 and trans_x>286 and trans_y > 272 and trans_y < 410: #after3 = np.float32([[432,410],[432,272],[286,272],[272,410]])\n",
    "\n",
    "            ROI_image = cv2.circle(ROI_image,(int(trans_x),int(trans_y)),5,(0,0,255),-1)\n",
    "    \n",
    "\n",
    "    cv2.imshow('2D', ROI_image)\n",
    "    cv2.imshow('detect1',frame)\n",
    "    out.write(frame)\n",
    "    if cv2.waitKey(10) & 0xFF == ord('q'):\n",
    "        break\n",
    "cap.release()\n",
    "cv2.destroyAllWindows()\n",
    "    "
   ]
  },
  {
   "cell_type": "code",
   "execution_count": null,
   "metadata": {},
   "outputs": [],
   "source": [
    "import cv2\n",
    "import time\n",
    "\n",
    "video = cv2.VideoCapture(0)\t\t\t# WebCam의 경우 0 또는 1\n",
    "\t\t\t\t\t\t# 비디오 파일의 경우 '경로/파일명.확장자'\n",
    "FPS = 10\n",
    "prev_time = 0\n",
    "\n",
    "while True:\n",
    "\t\n",
    "    ret, frame = video.read()\n",
    "\n",
    "    current_time = time.time() - prev_time\n",
    "\n",
    "    if (ret is True) and (current_time > 1./ FPS) :\n",
    "    \t\n",
    "        prev_time = time.time()\n",
    "        \n",
    "        cv2.imshow('VideoCapture', frame)\n",
    "    \t\n",
    "        if cv2.waitKey(1) > 0 :\n",
    "            \n",
    "            break"
   ]
  }
 ],
 "metadata": {
  "kernelspec": {
   "display_name": "Python 3.9.12 ('metrabs': venv)",
   "language": "python",
   "name": "python3"
  },
  "language_info": {
   "codemirror_mode": {
    "name": "ipython",
    "version": 3
   },
   "file_extension": ".py",
   "mimetype": "text/x-python",
   "name": "python",
   "nbconvert_exporter": "python",
   "pygments_lexer": "ipython3",
   "version": "3.9.12"
  },
  "orig_nbformat": 4,
  "vscode": {
   "interpreter": {
    "hash": "c298febc1624e7004931ab9f383ad905d2d16c4d941da8fb932c4c60d1425215"
   }
  }
 },
 "nbformat": 4,
 "nbformat_minor": 2
}

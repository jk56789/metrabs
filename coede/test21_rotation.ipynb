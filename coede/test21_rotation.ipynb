{
 "cells": [
  {
   "cell_type": "code",
   "execution_count": 29,
   "metadata": {},
   "outputs": [],
   "source": [
    "#여기 코드가 가장 중요하다. 위의 코드를 사용하면 matplot창을 띄워주고\n",
    "# 아래의 코드를 사용하면 파이썬에서 첫번째 이미지만 보여준다.\n",
    "\n",
    "\n",
    "%matplotlib qt\n",
    "\n",
    "#%matplotlib inline"
   ]
  },
  {
   "cell_type": "code",
   "execution_count": 2,
   "metadata": {},
   "outputs": [
    {
     "name": "stderr",
     "output_type": "stream",
     "text": [
      "'wget'��(��) ���� �Ǵ� �ܺ� ����, ������ �� �ִ� ���α׷�, �Ǵ�\n",
      "��ġ ������ �ƴմϴ�.\n"
     ]
    }
   ],
   "source": [
    "import tensorflow as tf\n",
    "import os\n",
    "\n",
    "def download_model(model_type):\n",
    "    server_prefix = 'https://omnomnom.vision.rwth-aachen.de/data/metrabs'\n",
    "    model_zippath = tf.keras.utils.get_file(\n",
    "        origin=f'{server_prefix}/{model_type}_20211019.zip',\n",
    "        extract=True, cache_subdir='models')\n",
    "    model_path = os.path.join(os.path.dirname(model_zippath), model_type)\n",
    "    return model_path\n",
    "\n",
    "model = tf.saved_model.load(download_model('metrabs_mob3l_y4t')) # or metrabs_eff2l_y4 for the big model\n",
    "! wget -q https://raw.githubusercontent.com/isarandi/metrabs/master/img/test_image_3dpw.jpg\n"
   ]
  },
  {
   "cell_type": "code",
   "execution_count": 37,
   "metadata": {},
   "outputs": [],
   "source": [
    "import cv2\n",
    "image1 = cv2.imread('C:/Users/Leeyourack/jookyoung/image/2.screenshot/3scr239.jpg')\n",
    "image1 = cv2.cvtColor(image1, cv2.COLOR_BGR2RGB)\n",
    "pred1 = model.detect_poses(image1, skeleton='smpl_24')"
   ]
  },
  {
   "cell_type": "code",
   "execution_count": 9,
   "metadata": {},
   "outputs": [],
   "source": [
    "import cv2\n",
    "image2 = cv2.imread('C:/Users/Leeyourack/jookyoung/image/2.screenshot/3scr253.jpg')\n",
    "image2 = cv2.cvtColor(image2, cv2.COLOR_BGR2RGB)\n",
    "pred2 = model.detect_poses(image2, skeleton='smpl_24')"
   ]
  },
  {
   "cell_type": "code",
   "execution_count": 10,
   "metadata": {},
   "outputs": [],
   "source": [
    "import cv2\n",
    "image3 = cv2.imread('C:/Users/Leeyourack/jookyoung/image/2.screenshot/3scr299.jpg')\n",
    "image3 = cv2.cvtColor(image3, cv2.COLOR_BGR2RGB)\n",
    "pred3 = model.detect_poses(image3, skeleton='smpl_24')"
   ]
  },
  {
   "cell_type": "markdown",
   "metadata": {},
   "source": [
    "### normalvector"
   ]
  },
  {
   "cell_type": "code",
   "execution_count": 11,
   "metadata": {},
   "outputs": [],
   "source": [
    "poses3d1=pred1['poses3d'].numpy()[0]\n",
    "poses3d1[..., 1], poses3d1[..., 2] = poses3d1[..., 2], -poses3d1[..., 1]"
   ]
  },
  {
   "cell_type": "code",
   "execution_count": 12,
   "metadata": {},
   "outputs": [
    {
     "data": {
      "text/plain": [
       "array([-1029. ,  7466.4,   857.1], dtype=float32)"
      ]
     },
     "execution_count": 12,
     "metadata": {},
     "output_type": "execute_result"
    }
   ],
   "source": [
    "a=poses3d1[10]\n",
    "a"
   ]
  },
  {
   "cell_type": "code",
   "execution_count": 13,
   "metadata": {},
   "outputs": [],
   "source": [
    "poses3d2=pred2['poses3d'].numpy()[0]\n",
    "poses3d2[..., 1], poses3d2[..., 2] = poses3d2[..., 2], -poses3d2[..., 1]"
   ]
  },
  {
   "cell_type": "code",
   "execution_count": 14,
   "metadata": {},
   "outputs": [
    {
     "data": {
      "text/plain": [
       "array([-1511.2,  5996.8,   543.6], dtype=float32)"
      ]
     },
     "execution_count": 14,
     "metadata": {},
     "output_type": "execute_result"
    }
   ],
   "source": [
    "b=poses3d2[10]\n",
    "b"
   ]
  },
  {
   "cell_type": "code",
   "execution_count": 15,
   "metadata": {},
   "outputs": [],
   "source": [
    "poses3d3=pred3['poses3d'].numpy()[0]\n",
    "poses3d3[..., 1], poses3d3[..., 2] = poses3d3[..., 2], -poses3d3[..., 1]\n",
    " "
   ]
  },
  {
   "cell_type": "code",
   "execution_count": 16,
   "metadata": {},
   "outputs": [
    {
     "data": {
      "text/plain": [
       "array([-181.325, 6224.   , -305.5  ], dtype=float32)"
      ]
     },
     "execution_count": 16,
     "metadata": {},
     "output_type": "execute_result"
    }
   ],
   "source": [
    "c=poses3d3[10]\n",
    "c"
   ]
  },
  {
   "cell_type": "code",
   "execution_count": 17,
   "metadata": {},
   "outputs": [
    {
     "name": "stdout",
     "output_type": "stream",
     "text": [
      "[ -482.19995 -1469.6001   -313.5    ]\n",
      "[  847.675  -1242.3999 -1162.6   ]\n"
     ]
    }
   ],
   "source": [
    "ab = b-a\n",
    "print(ab)\n",
    "ac = c-a\n",
    "print(ac)"
   ]
  },
  {
   "cell_type": "code",
   "execution_count": 18,
   "metadata": {},
   "outputs": [
    {
     "data": {
      "text/plain": [
       "[1319064.6, -826351.75, 1844828.5]"
      ]
     },
     "execution_count": 18,
     "metadata": {},
     "output_type": "execute_result"
    }
   ],
   "source": [
    "list = [ab[1]*ac[2]-ab[2]*ac[1],-(ab[0]*ac[2]-ab[2]*ac[0]),ab[0]*ac[1]-ab[1]*ac[0]]\n",
    "list"
   ]
  },
  {
   "cell_type": "code",
   "execution_count": 19,
   "metadata": {},
   "outputs": [
    {
     "data": {
      "text/plain": [
       "[13.19064625, -8.2635175, 18.448285]"
      ]
     },
     "execution_count": 19,
     "metadata": {},
     "output_type": "execute_result"
    }
   ],
   "source": [
    "list = [(ab[1]*ac[2]-ab[2]*ac[1])/100000,\n",
    "        -(ab[0]*ac[2]-ab[2]*ac[0])/100000,\n",
    "            (ab[0]*ac[1]-ab[1]*ac[0])/100000]\n",
    "list"
   ]
  },
  {
   "cell_type": "code",
   "execution_count": 20,
   "metadata": {},
   "outputs": [
    {
     "data": {
      "text/plain": [
       "13.19064625"
      ]
     },
     "execution_count": 20,
     "metadata": {},
     "output_type": "execute_result"
    }
   ],
   "source": [
    "list[0]"
   ]
  },
  {
   "cell_type": "markdown",
   "metadata": {},
   "source": [
    "### rotation matrix"
   ]
  },
  {
   "cell_type": "code",
   "execution_count": 21,
   "metadata": {},
   "outputs": [
    {
     "name": "stdout",
     "output_type": "stream",
     "text": [
      "x: 13.19064625 y: -8.2635175 z: 18.448285\n",
      "xy: 15.565309825552632 yz: 20.214473550256788 xz: 22.67889697348317\n",
      "xyz: 24.1374830793658\n"
     ]
    }
   ],
   "source": [
    "x=list[0]\n",
    "y=list[1]\n",
    "z=list[2]\n",
    "print('x:',x, 'y:',y, 'z:',z )\n",
    "xy = (x**2+y**2)**0.5\n",
    "yz = (y**2+z**2)**0.5\n",
    "xz = (x**2+z**2)**0.5\n",
    "print('xy:',xy, 'yz:',yz, 'xz:',xz )\n",
    "\n",
    "xyz = (x**2+y**2+z**2)**0.5\n",
    "print('xyz:',xyz)\n"
   ]
  },
  {
   "cell_type": "code",
   "execution_count": 22,
   "metadata": {},
   "outputs": [
    {
     "name": "stdout",
     "output_type": "stream",
     "text": [
      "0.6619052177385927 0.7495875417390728\n"
     ]
    }
   ],
   "source": [
    "#z축 회전\n",
    "\n",
    "import math\n",
    "cos1 = math.cos(x/xy)\n",
    "sin1 = math.sin(x/xy)\n",
    "\n",
    "print(cos1,sin1)"
   ]
  },
  {
   "cell_type": "code",
   "execution_count": 23,
   "metadata": {},
   "outputs": [
    {
     "name": "stdout",
     "output_type": "stream",
     "text": [
      "0.7991836159339522 -0.6010869720953311\n"
     ]
    }
   ],
   "source": [
    "#y축 회전\n",
    "import math\n",
    "cos2 = math.cos(xy/xyz)\n",
    "sin2 = math.sin(xy/xyz)\n",
    "sin2 = -sin2\n",
    "\n",
    "print(cos2,sin2)"
   ]
  },
  {
   "cell_type": "code",
   "execution_count": 61,
   "metadata": {},
   "outputs": [],
   "source": [
    "import numpy as np\n",
    "\n",
    "r1 = np.array([[cos1,-sin1,0], #z축 회전\n",
    "                [sin1,cos1,0],\n",
    "                [0,0,1]])\n",
    "r2 = np.array([[cos2,0,sin2],\n",
    "                [0,1,0],\n",
    "                [-sin2,0,cos2]])        #y축 회전\n",
    "r3 = np.array([[0,1,0], #z축 회전\n",
    "                [-1,0,0],\n",
    "                [0,0,1]])\n",
    "                "
   ]
  },
  {
   "cell_type": "code",
   "execution_count": 62,
   "metadata": {},
   "outputs": [
    {
     "data": {
      "text/plain": [
       "array([[ 0.74958754,  0.66190522,  0.        ],\n",
       "       [-0.52898381,  0.59905808,  0.60108697],\n",
       "       [ 0.3978626 , -0.45056731,  0.79918362]])"
      ]
     },
     "execution_count": 62,
     "metadata": {},
     "output_type": "execute_result"
    }
   ],
   "source": [
    "rotation1 = r3@r2@r1\n",
    "rotation1"
   ]
  },
  {
   "cell_type": "code",
   "execution_count": 73,
   "metadata": {},
   "outputs": [],
   "source": [
    "# 변환적용 전\n",
    "\n",
    "import matplotlib.pyplot as plt\n",
    "from matplotlib.patches import Rectangle\n",
    "from mpl_toolkits.mplot3d import Axes3D\n",
    "import numpy as np \n",
    "\n",
    "def visualize(im, detections, poses3d, poses2d, edges):\n",
    "    fig = plt.figure(figsize=(10, 5.2))\n",
    "    image_ax = fig.add_subplot(1, 2, 1)\n",
    "    image_ax.imshow(image1)\n",
    "    for x, y, w, h in detections[:, :4]:\n",
    "        image_ax.add_patch(Rectangle((x, y), w, h, fill=False))\n",
    "    \n",
    "\n",
    "    pose_ax = fig.add_subplot(1, 2, 2, projection='3d')\n",
    "    pose_ax.view_init(14, -76)\n",
    "    pose_ax.set_xlim3d(-10000, 1500)\n",
    "    pose_ax.set_zlim3d(0, 6000)\n",
    "    pose_ax.set_ylim3d(0, 20000)\n",
    "\n",
    "\n",
    "    # x, y, z값 \n",
    "    xpos = [-10000,-1500,500]\n",
    "    ypos = [10000,9000,5000]\n",
    "    zpos = [0,0,0]\n",
    "\n",
    "    # delta x, y, z 값\n",
    "    dx = [4000,2000,1000]\n",
    "    dy = [10000,11000,15000]\n",
    "    dz = [2000,2000,2000]\n",
    "\n",
    "    #그래프 만들기\n",
    "    pose_ax.bar3d(xpos,ypos,zpos,dx,dy,dz,'#7f7f7f',alpha=0.2) #,color='#00ceaa'(초록색) 기본값은 파란색\n",
    "    pose_ax.set_title('6F')\n",
    "    pose_ax.set_xlabel('x axis')\n",
    "    pose_ax.set_ylabel('y axis')\n",
    "    pose_ax.set_zlabel('z axis')\n",
    "\n",
    "    '''#2\n",
    "    pose_ax = fig.add_subplot(1, 2, 2, projection='3d')\n",
    "    pose_ax.view_init(5, -85)\n",
    "    pose_ax.set_xlim3d(-1500, 1500)\n",
    "    pose_ax.set_zlim3d(-500, 1500)\n",
    "    pose_ax.set_ylim3d(0, 3000)'''\n",
    "\n",
    "\n",
    "\n",
    "    # Matplotlib plots the Z axis as vertical, but our poses have Y as the vertical axis.\n",
    "    # Therefore, we do a 90° rotation around the X axis:\n",
    "    poses3d[..., 1], poses3d[..., 2] = poses3d[..., 2], -poses3d[..., 1] \n",
    "    '''a=np.ones(24)*(-6000)\n",
    "    b=np.ones(24)\n",
    "    c=np.ones(24)*(-2700)\n",
    "    shift=np.row_stack((a,b,c))'''\n",
    "    \n",
    "\n",
    "    for pose3d, pose2d in zip(poses3d, poses2d):\n",
    "        #p1=pose3d.T+shift\n",
    "        #pose3d=rotation1@pose3d.T\n",
    "        #pose3d=pose3d+shift\n",
    "        for i_start, i_end in edges:\n",
    "            image_ax.plot(*zip(pose2d[i_start], pose2d[i_end]), marker='o', markersize=2)\n",
    "            pose_ax.plot(*zip(pose3d[i_start], pose3d[i_end]), marker='o', markersize=2)\n",
    "        image_ax.scatter(*pose2d.T, s=2)\n",
    "        pose_ax.scatter(*pose3d.T, s=2)\n",
    "\n",
    "    fig.tight_layout()\n",
    "    plt.show()\n",
    "\n",
    "visualize(\n",
    "    image1, \n",
    "    pred1['boxes'].numpy(),\n",
    "    pred1['poses3d'].numpy(),\n",
    "    pred1['poses2d'].numpy(),\n",
    "    model.per_skeleton_joint_edges['smpl_24'].numpy())"
   ]
  },
  {
   "cell_type": "code",
   "execution_count": 69,
   "metadata": {},
   "outputs": [],
   "source": [
    "##1\n",
    "import matplotlib.pyplot as plt\n",
    "from matplotlib.patches import Rectangle\n",
    "from mpl_toolkits.mplot3d import Axes3D\n",
    "import numpy as np \n",
    "\n",
    "def visualize(im, detections, poses3d, poses2d, edges):\n",
    "    fig = plt.figure(figsize=(10, 5.2))\n",
    "    image_ax = fig.add_subplot(1, 2, 1)\n",
    "    image_ax.imshow(image1)\n",
    "    for x, y, w, h in detections[:, :4]:\n",
    "        image_ax.add_patch(Rectangle((x, y), w, h, fill=False))\n",
    "    \n",
    "\n",
    "    pose_ax = fig.add_subplot(1, 2, 2, projection='3d')\n",
    "    pose_ax.view_init(14, -76)\n",
    "    pose_ax.set_xlim3d(-10000, 1500)\n",
    "    pose_ax.set_zlim3d(0, 6000)\n",
    "    pose_ax.set_ylim3d(0, 20000)\n",
    "\n",
    "\n",
    "    # x, y, z값 \n",
    "    xpos = [-10000,-1500,500]\n",
    "    ypos = [10000,9000,5000]\n",
    "    zpos = [0,0,0]\n",
    "\n",
    "    # delta x, y, z 값\n",
    "    dx = [4000,2000,1000]\n",
    "    dy = [10000,11000,15000]\n",
    "    dz = [2000,2000,2000]\n",
    "\n",
    "    #그래프 만들기\n",
    "    pose_ax.bar3d(xpos,ypos,zpos,dx,dy,dz,'#7f7f7f',alpha=0.2) #,color='#00ceaa'(초록색) 기본값은 파란색\n",
    "    pose_ax.set_title('6F')\n",
    "    pose_ax.set_xlabel('x axis')\n",
    "    pose_ax.set_ylabel('y axis')\n",
    "    pose_ax.set_zlabel('z axis')\n",
    "\n",
    "    '''#2\n",
    "    pose_ax = fig.add_subplot(1, 2, 2, projection='3d')\n",
    "    pose_ax.view_init(5, -85)\n",
    "    pose_ax.set_xlim3d(-1500, 1500)\n",
    "    pose_ax.set_zlim3d(-500, 1500)\n",
    "    pose_ax.set_ylim3d(0, 3000)'''\n",
    "\n",
    "\n",
    "\n",
    "    # Matplotlib plots the Z axis as vertical, but our poses have Y as the vertical axis.\n",
    "    # Therefore, we do a 90° rotation around the X axis:\n",
    "    poses3d[..., 1], poses3d[..., 2] = poses3d[..., 2], -poses3d[..., 1] \n",
    "    a=np.ones(24)*(-11000)\n",
    "    b=np.ones(24)*(+4000)\n",
    "    c=np.ones(24)*(+2500)\n",
    "    shift=np.row_stack((a,b,c))\n",
    "    \n",
    "\n",
    "    for pose3d, pose2d in zip(poses3d, poses2d):\n",
    "        \n",
    "        pose3d=rotation1@pose3d.T\n",
    "        pose3d=pose3d+shift\n",
    "\n",
    "        for i_start, i_end in edges:\n",
    "            image_ax.plot(*zip(pose2d[i_start], pose2d[i_end]), marker='o', markersize=2)\n",
    "            pose_ax.plot(*zip(pose3d.T[i_start], pose3d.T[i_end]), marker='o', markersize=2)\n",
    "        \n",
    "        image_ax.scatter(*pose2d.T, s=2)\n",
    "        pose_ax.scatter(*pose3d, s=2)\n",
    "\n",
    "    fig.tight_layout()\n",
    "    plt.show()\n",
    "\n",
    "visualize(\n",
    "    image1, \n",
    "    pred1['boxes'].numpy(),\n",
    "    pred1['poses3d'].numpy(),\n",
    "    pred1['poses2d'].numpy(),\n",
    "    model.per_skeleton_joint_edges['smpl_24'].numpy())"
   ]
  },
  {
   "cell_type": "code",
   "execution_count": 71,
   "metadata": {},
   "outputs": [],
   "source": [
    "##2\n",
    "import matplotlib.pyplot as plt\n",
    "from matplotlib.patches import Rectangle\n",
    "from mpl_toolkits.mplot3d import Axes3D\n",
    "import numpy as np \n",
    "\n",
    "def visualize(im, detections, poses3d, poses2d, edges):\n",
    "    fig = plt.figure(figsize=(10, 5.2))\n",
    "    image_ax = fig.add_subplot(1, 2, 1)\n",
    "    image_ax.imshow(image2)\n",
    "    for x, y, w, h in detections[:, :4]:\n",
    "        image_ax.add_patch(Rectangle((x, y), w, h, fill=False))\n",
    "    \n",
    "\n",
    "    pose_ax = fig.add_subplot(1, 2, 2, projection='3d')\n",
    "    pose_ax.view_init(14, -76)\n",
    "    pose_ax.set_xlim3d(-10000, 1500)\n",
    "    pose_ax.set_zlim3d(0, 6000)\n",
    "    pose_ax.set_ylim3d(0, 20000)\n",
    "\n",
    "\n",
    "    # x, y, z값 \n",
    "    xpos = [-10000,-1500,500]\n",
    "    ypos = [10000,9000,5000]\n",
    "    zpos = [0,0,0]\n",
    "\n",
    "    # delta x, y, z 값\n",
    "    dx = [4000,2000,1000]\n",
    "    dy = [10000,11000,15000]\n",
    "    dz = [2000,2000,2000]\n",
    "\n",
    "    #그래프 만들기\n",
    "    pose_ax.bar3d(xpos,ypos,zpos,dx,dy,dz,'#7f7f7f',alpha=0.2) #,color='#00ceaa'(초록색) 기본값은 파란색\n",
    "    pose_ax.set_title('6F')\n",
    "    pose_ax.set_xlabel('x axis')\n",
    "    pose_ax.set_ylabel('y axis')\n",
    "    pose_ax.set_zlabel('z axis')\n",
    "\n",
    "    '''#2\n",
    "    pose_ax = fig.add_subplot(1, 2, 2, projection='3d')\n",
    "    pose_ax.view_init(5, -85)\n",
    "    pose_ax.set_xlim3d(-1500, 1500)\n",
    "    pose_ax.set_zlim3d(-500, 1500)\n",
    "    pose_ax.set_ylim3d(0, 3000)'''\n",
    "\n",
    "\n",
    "\n",
    "    # Matplotlib plots the Z axis as vertical, but our poses have Y as the vertical axis.\n",
    "    # Therefore, we do a 90° rotation around the X axis:\n",
    "    poses3d[..., 1], poses3d[..., 2] = poses3d[..., 2], -poses3d[..., 1] \n",
    "    a=np.ones(24)*(-11000)\n",
    "    b=np.ones(24)*(+4000)\n",
    "    c=np.ones(24)*(+2500)\n",
    "    shift=np.row_stack((a,b,c))\n",
    "    \n",
    "\n",
    "    for pose3d, pose2d in zip(poses3d, poses2d):\n",
    "        \n",
    "        pose3d=rotation1@pose3d.T\n",
    "        pose3d=pose3d+shift\n",
    "\n",
    "        for i_start, i_end in edges:\n",
    "            image_ax.plot(*zip(pose2d[i_start], pose2d[i_end]), marker='o', markersize=2)\n",
    "            pose_ax.plot(*zip(pose3d.T[i_start], pose3d.T[i_end]), marker='o', markersize=2)\n",
    "        \n",
    "        image_ax.scatter(*pose2d.T, s=2)\n",
    "        pose_ax.scatter(*pose3d, s=2)\n",
    "\n",
    "    fig.tight_layout()\n",
    "    plt.show()\n",
    "\n",
    "visualize(\n",
    "    image2, \n",
    "    pred2['boxes'].numpy(),\n",
    "    pred2['poses3d'].numpy(),\n",
    "    pred2['poses2d'].numpy(),\n",
    "    model.per_skeleton_joint_edges['smpl_24'].numpy())"
   ]
  },
  {
   "cell_type": "code",
   "execution_count": 72,
   "metadata": {},
   "outputs": [],
   "source": [
    "##3\n",
    "import matplotlib.pyplot as plt\n",
    "from matplotlib.patches import Rectangle\n",
    "from mpl_toolkits.mplot3d import Axes3D\n",
    "import numpy as np \n",
    "\n",
    "def visualize(im, detections, poses3d, poses2d, edges):\n",
    "    fig = plt.figure(figsize=(10, 5.2))\n",
    "    image_ax = fig.add_subplot(1, 2, 1)\n",
    "    image_ax.imshow(image3)\n",
    "    for x, y, w, h in detections[:, :4]:\n",
    "        image_ax.add_patch(Rectangle((x, y), w, h, fill=False))\n",
    "    \n",
    "\n",
    "    pose_ax = fig.add_subplot(1, 2, 2, projection='3d')\n",
    "    pose_ax.view_init(14, -76)\n",
    "    pose_ax.set_xlim3d(-10000, 1500)\n",
    "    pose_ax.set_zlim3d(0, 6000)\n",
    "    pose_ax.set_ylim3d(0, 20000)\n",
    "\n",
    "\n",
    "    # x, y, z값 \n",
    "    xpos = [-10000,-1500,500]\n",
    "    ypos = [10000,9000,5000]\n",
    "    zpos = [0,0,0]\n",
    "\n",
    "    # delta x, y, z 값\n",
    "    dx = [4000,2000,1000]\n",
    "    dy = [10000,11000,15000]\n",
    "    dz = [2000,2000,2000]\n",
    "\n",
    "    #그래프 만들기\n",
    "    pose_ax.bar3d(xpos,ypos,zpos,dx,dy,dz,'#7f7f7f',alpha=0.2) #,color='#00ceaa'(초록색) 기본값은 파란색\n",
    "    pose_ax.set_title('6F')\n",
    "    pose_ax.set_xlabel('x axis')\n",
    "    pose_ax.set_ylabel('y axis')\n",
    "    pose_ax.set_zlabel('z axis')\n",
    "\n",
    "    '''#2\n",
    "    pose_ax = fig.add_subplot(1, 2, 2, projection='3d')\n",
    "    pose_ax.view_init(5, -85)\n",
    "    pose_ax.set_xlim3d(-1500, 1500)\n",
    "    pose_ax.set_zlim3d(-500, 1500)\n",
    "    pose_ax.set_ylim3d(0, 3000)'''\n",
    "\n",
    "\n",
    "\n",
    "    # Matplotlib plots the Z axis as vertical, but our poses have Y as the vertical axis.\n",
    "    # Therefore, we do a 90° rotation around the X axis:\n",
    "    poses3d[..., 1], poses3d[..., 2] = poses3d[..., 2], -poses3d[..., 1] \n",
    "    a=np.ones(24)*(-11000)\n",
    "    b=np.ones(24)*(+4000)\n",
    "    c=np.ones(24)*(+2500)\n",
    "    shift=np.row_stack((a,b,c))\n",
    "    \n",
    "\n",
    "    for pose3d, pose2d in zip(poses3d, poses2d):\n",
    "        \n",
    "        pose3d=rotation1@pose3d.T\n",
    "        pose3d=pose3d+shift\n",
    "        for i_start, i_end in edges:\n",
    "            image_ax.plot(*zip(pose2d[i_start], pose2d[i_end]), marker='o', markersize=2)\n",
    "            pose_ax.plot(*zip(pose3d.T[i_start], pose3d.T[i_end]), marker='o', markersize=2)\n",
    "        image_ax.scatter(*pose2d.T, s=2)\n",
    "        pose_ax.scatter(*pose3d, s=2)\n",
    "\n",
    "    fig.tight_layout()\n",
    "    plt.show()\n",
    "\n",
    "visualize(\n",
    "    image3, \n",
    "    pred3['boxes'].numpy(),\n",
    "    pred3['poses3d'].numpy(),\n",
    "    pred3['poses2d'].numpy(),\n",
    "    model.per_skeleton_joint_edges['smpl_24'].numpy())"
   ]
  }
 ],
 "metadata": {
  "kernelspec": {
   "display_name": "Python 3.9.12 ('metrabs': venv)",
   "language": "python",
   "name": "python3"
  },
  "language_info": {
   "codemirror_mode": {
    "name": "ipython",
    "version": 3
   },
   "file_extension": ".py",
   "mimetype": "text/x-python",
   "name": "python",
   "nbconvert_exporter": "python",
   "pygments_lexer": "ipython3",
   "version": "3.9.12"
  },
  "orig_nbformat": 4,
  "vscode": {
   "interpreter": {
    "hash": "c298febc1624e7004931ab9f383ad905d2d16c4d941da8fb932c4c60d1425215"
   }
  }
 },
 "nbformat": 4,
 "nbformat_minor": 2
}

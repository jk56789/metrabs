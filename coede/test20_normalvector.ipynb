{
 "cells": [
  {
   "cell_type": "code",
   "execution_count": 1,
   "metadata": {},
   "outputs": [],
   "source": [
    "#여기 코드가 가장 중요하다. 위의 코드를 사용하면 matplot창을 띄워주고\n",
    "# 아래의 코드를 사용하면 파이썬에서 첫번째 이미지만 보여준다.\n",
    "\n",
    "\n",
    "%matplotlib qt\n",
    "\n",
    "#%matplotlib inline"
   ]
  },
  {
   "cell_type": "code",
   "execution_count": 2,
   "metadata": {},
   "outputs": [
    {
     "name": "stderr",
     "output_type": "stream",
     "text": [
      "'wget'��(��) ���� �Ǵ� �ܺ� ����, ������ �� �ִ� ���α׷�, �Ǵ�\n",
      "��ġ ������ �ƴմϴ�.\n"
     ]
    }
   ],
   "source": [
    "import tensorflow as tf\n",
    "import os\n",
    "\n",
    "def download_model(model_type):\n",
    "    server_prefix = 'https://omnomnom.vision.rwth-aachen.de/data/metrabs'\n",
    "    model_zippath = tf.keras.utils.get_file(\n",
    "        origin=f'{server_prefix}/{model_type}_20211019.zip',\n",
    "        extract=True, cache_subdir='models')\n",
    "    model_path = os.path.join(os.path.dirname(model_zippath), model_type)\n",
    "    return model_path\n",
    "\n",
    "model = tf.saved_model.load(download_model('metrabs_mob3l_y4t')) # or metrabs_eff2l_y4 for the big model\n",
    "! wget -q https://raw.githubusercontent.com/isarandi/metrabs/master/img/test_image_3dpw.jpg\n"
   ]
  },
  {
   "cell_type": "code",
   "execution_count": 15,
   "metadata": {},
   "outputs": [],
   "source": [
    "import cv2\n",
    "image1 = cv2.imread('C:/Users/Leeyourack/jookyoung/image/2.screenshot/3scr239.jpg')\n",
    "image1 = cv2.cvtColor(image1, cv2.COLOR_BGR2RGB)\n",
    "pred1 = model.detect_poses(image1, skeleton='smpl_24')"
   ]
  },
  {
   "cell_type": "code",
   "execution_count": 16,
   "metadata": {},
   "outputs": [],
   "source": [
    "import matplotlib.pyplot as plt\n",
    "from matplotlib.patches import Rectangle\n",
    "from mpl_toolkits.mplot3d import Axes3D\n",
    "import numpy as np \n",
    "\n",
    "def visualize(im, detections, poses3d, poses2d, edges):\n",
    "    fig = plt.figure(figsize=(10, 5.2))\n",
    "    image_ax = fig.add_subplot(1, 2, 1)\n",
    "    image_ax.imshow(image1)\n",
    "    for x, y, w, h in detections[:, :4]:\n",
    "        image_ax.add_patch(Rectangle((x, y), w, h, fill=False))\n",
    "    \n",
    "\n",
    "    pose_ax = fig.add_subplot(1, 2, 2, projection='3d')\n",
    "    pose_ax.view_init(5, -85)\n",
    "    pose_ax.set_xlim3d(-10000, 1500)\n",
    "    pose_ax.set_zlim3d(0, 6000)\n",
    "    pose_ax.set_ylim3d(0, 20000)\n",
    "\n",
    "\n",
    "    # x, y, z값 \n",
    "    xpos = [-10000,-1500,500]\n",
    "    ypos = [10000,9000,5000]\n",
    "    zpos = [0,0,0]\n",
    "\n",
    "    # delta x, y, z 값\n",
    "    dx = [4000,2000,1000]\n",
    "    dy = [10000,11000,15000]\n",
    "    dz = [2000,2000,2000]\n",
    "\n",
    "    #그래프 만들기\n",
    "    pose_ax.bar3d(xpos,ypos,zpos,dx,dy,dz,'#7f7f7f',alpha=0.2) #,color='#00ceaa'(초록색) 기본값은 파란색\n",
    "    pose_ax.set_title('6F')\n",
    "    pose_ax.set_xlabel('x axis')\n",
    "    pose_ax.set_ylabel('y axis')\n",
    "    pose_ax.set_zlabel('z axis')\n",
    "\n",
    "    '''#2\n",
    "    pose_ax = fig.add_subplot(1, 2, 2, projection='3d')\n",
    "    pose_ax.view_init(5, -85)\n",
    "    pose_ax.set_xlim3d(-1500, 1500)\n",
    "    pose_ax.set_zlim3d(-500, 1500)\n",
    "    pose_ax.set_ylim3d(0, 3000)'''\n",
    "\n",
    "\n",
    "\n",
    "    # Matplotlib plots the Z axis as vertical, but our poses have Y as the vertical axis.\n",
    "    # Therefore, we do a 90° rotation around the X axis:\n",
    "    poses3d[..., 1], poses3d[..., 2] = poses3d[..., 2], -poses3d[..., 1] \n",
    "    '''a=np.ones(24)*(-6000)\n",
    "    b=np.ones(24)*(-1000)\n",
    "    c=np.ones(24)*(+300)\n",
    "    shift=np.row_stack((a,b,c))'''\n",
    "\n",
    "    for pose3d, pose2d in zip(poses3d, poses2d):\n",
    "        #p1=pose3d.T+shift\n",
    "        for i_start, i_end in edges:\n",
    "            image_ax.plot(*zip(pose2d[i_start], pose2d[i_end]), marker='o', markersize=2)\n",
    "            pose_ax.plot(*zip(pose3d[i_start], pose3d[i_end]), marker='o', markersize=2)\n",
    "        image_ax.scatter(*pose2d.T, s=2)\n",
    "        pose_ax.scatter(*pose3d.T, s=2)\n",
    "\n",
    "    fig.tight_layout()\n",
    "    plt.show()\n",
    "\n",
    "visualize(\n",
    "    image1, \n",
    "    pred1['boxes'].numpy(),\n",
    "    pred1['poses3d'].numpy(),\n",
    "    pred1['poses2d'].numpy(),\n",
    "    model.per_skeleton_joint_edges['smpl_24'].numpy())"
   ]
  },
  {
   "cell_type": "code",
   "execution_count": 17,
   "metadata": {},
   "outputs": [],
   "source": [
    "import cv2\n",
    "image2 = cv2.imread('C:/Users/Leeyourack/jookyoung/image/2.screenshot/3scr253.jpg')\n",
    "image2 = cv2.cvtColor(image2, cv2.COLOR_BGR2RGB)\n",
    "pred2 = model.detect_poses(image2, skeleton='smpl_24')"
   ]
  },
  {
   "cell_type": "code",
   "execution_count": 18,
   "metadata": {},
   "outputs": [],
   "source": [
    "import matplotlib.pyplot as plt\n",
    "from matplotlib.patches import Rectangle\n",
    "from mpl_toolkits.mplot3d import Axes3D\n",
    "import numpy as np \n",
    "\n",
    "def visualize(im, detections, poses3d, poses2d, edges):\n",
    "    fig = plt.figure(figsize=(10, 5.2))\n",
    "    image_ax = fig.add_subplot(1, 2, 1)\n",
    "    image_ax.imshow(image2)\n",
    "    for x, y, w, h in detections[:, :4]:\n",
    "        image_ax.add_patch(Rectangle((x, y), w, h, fill=False))\n",
    "    \n",
    "\n",
    "    pose_ax = fig.add_subplot(1, 2, 2, projection='3d')\n",
    "    pose_ax.view_init(5, -85)\n",
    "    pose_ax.set_xlim3d(-10000, 1500)\n",
    "    pose_ax.set_zlim3d(0, 6000)\n",
    "    pose_ax.set_ylim3d(0, 20000)\n",
    "\n",
    "\n",
    "    # x, y, z값 \n",
    "    xpos = [-10000,-1500,500]\n",
    "    ypos = [10000,9000,5000]\n",
    "    zpos = [0,0,0]\n",
    "\n",
    "    # delta x, y, z 값\n",
    "    dx = [4000,2000,1000]\n",
    "    dy = [10000,11000,15000]\n",
    "    dz = [2000,2000,2000]\n",
    "\n",
    "    #그래프 만들기\n",
    "    pose_ax.bar3d(xpos,ypos,zpos,dx,dy,dz,'#7f7f7f',alpha=0.2) #,color='#00ceaa'(초록색) 기본값은 파란색\n",
    "    pose_ax.set_title('6F')\n",
    "    pose_ax.set_xlabel('x axis')\n",
    "    pose_ax.set_ylabel('y axis')\n",
    "    pose_ax.set_zlabel('z axis')\n",
    "\n",
    "    '''#2\n",
    "    pose_ax = fig.add_subplot(1, 2, 2, projection='3d')\n",
    "    pose_ax.view_init(5, -85)\n",
    "    pose_ax.set_xlim3d(-1500, 1500)\n",
    "    pose_ax.set_zlim3d(-500, 1500)\n",
    "    pose_ax.set_ylim3d(0, 3000)'''\n",
    "\n",
    "\n",
    "\n",
    "    # Matplotlib plots the Z axis as vertical, but our poses have Y as the vertical axis.\n",
    "    # Therefore, we do a 90° rotation around the X axis:\n",
    "    poses3d[..., 1], poses3d[..., 2] = poses3d[..., 2], -poses3d[..., 1] \n",
    "    '''a=np.ones(24)*(-6000)\n",
    "    b=np.ones(24)*(-1000)\n",
    "    c=np.ones(24)*(+300)\n",
    "    shift=np.row_stack((a,b,c))'''\n",
    "\n",
    "    for pose3d, pose2d in zip(poses3d, poses2d):\n",
    "        #p1=pose3d.T+shift\n",
    "        for i_start, i_end in edges:\n",
    "            image_ax.plot(*zip(pose2d[i_start], pose2d[i_end]), marker='o', markersize=2)\n",
    "            pose_ax.plot(*zip(pose3d[i_start], pose3d[i_end]), marker='o', markersize=2)\n",
    "        image_ax.scatter(*pose2d.T, s=2)\n",
    "        pose_ax.scatter(*pose3d.T, s=2)\n",
    "\n",
    "    fig.tight_layout()\n",
    "    plt.show()\n",
    "\n",
    "visualize(\n",
    "    image2, \n",
    "    pred2['boxes'].numpy(),\n",
    "    pred2['poses3d'].numpy(),\n",
    "    pred2['poses2d'].numpy(),\n",
    "    model.per_skeleton_joint_edges['smpl_24'].numpy())"
   ]
  },
  {
   "cell_type": "code",
   "execution_count": 45,
   "metadata": {},
   "outputs": [],
   "source": [
    "import cv2\n",
    "image3 = cv2.imread('C:/Users/Leeyourack/jookyoung/image/2.screenshot/3scr299.jpg')\n",
    "image3 = cv2.cvtColor(image3, cv2.COLOR_BGR2RGB)\n",
    "pred3 = model.detect_poses(image3, skeleton='smpl_24')"
   ]
  },
  {
   "cell_type": "code",
   "execution_count": 20,
   "metadata": {},
   "outputs": [],
   "source": [
    "import matplotlib.pyplot as plt\n",
    "from matplotlib.patches import Rectangle\n",
    "from mpl_toolkits.mplot3d import Axes3D\n",
    "import numpy as np \n",
    "\n",
    "def visualize(im, detections, poses3d, poses2d, edges):\n",
    "    fig = plt.figure(figsize=(10, 5.2))\n",
    "    image_ax = fig.add_subplot(1, 2, 1)\n",
    "    image_ax.imshow(image3)\n",
    "    for x, y, w, h in detections[:, :4]:\n",
    "        image_ax.add_patch(Rectangle((x, y), w, h, fill=False))\n",
    "    \n",
    "\n",
    "    pose_ax = fig.add_subplot(1, 2, 2, projection='3d')\n",
    "    pose_ax.view_init(5, -85)\n",
    "    pose_ax.set_xlim3d(-10000, 1500)\n",
    "    pose_ax.set_zlim3d(0, 6000)\n",
    "    pose_ax.set_ylim3d(0, 20000)\n",
    "\n",
    "\n",
    "    # x, y, z값 \n",
    "    xpos = [-10000,-1500,500]\n",
    "    ypos = [10000,9000,5000]\n",
    "    zpos = [0,0,0]\n",
    "\n",
    "    # delta x, y, z 값\n",
    "    dx = [4000,2000,1000]\n",
    "    dy = [10000,11000,15000]\n",
    "    dz = [2000,2000,2000]\n",
    "\n",
    "    #그래프 만들기\n",
    "    pose_ax.bar3d(xpos,ypos,zpos,dx,dy,dz,'#7f7f7f',alpha=0.2) #,color='#00ceaa'(초록색) 기본값은 파란색\n",
    "    pose_ax.set_title('6F')\n",
    "    pose_ax.set_xlabel('x axis')\n",
    "    pose_ax.set_ylabel('y axis')\n",
    "    pose_ax.set_zlabel('z axis')\n",
    "\n",
    "    '''#2\n",
    "    pose_ax = fig.add_subplot(1, 2, 2, projection='3d')\n",
    "    pose_ax.view_init(5, -85)\n",
    "    pose_ax.set_xlim3d(-1500, 1500)\n",
    "    pose_ax.set_zlim3d(-500, 1500)\n",
    "    pose_ax.set_ylim3d(0, 3000)'''\n",
    "\n",
    "\n",
    "\n",
    "    # Matplotlib plots the Z axis as vertical, but our poses have Y as the vertical axis.\n",
    "    # Therefore, we do a 90° rotation around the X axis:\n",
    "    poses3d[..., 1], poses3d[..., 2] = poses3d[..., 2], -poses3d[..., 1] \n",
    "    '''a=np.ones(24)*(-6000)\n",
    "    b=np.ones(24)*(-1000)\n",
    "    c=np.ones(24)*(+300)\n",
    "    shift=np.row_stack((a,b,c))'''\n",
    "\n",
    "    for pose3d, pose2d in zip(poses3d, poses2d):\n",
    "        #p1=pose3d.T+shift\n",
    "        for i_start, i_end in edges:\n",
    "            image_ax.plot(*zip(pose2d[i_start], pose2d[i_end]), marker='o', markersize=2)\n",
    "            pose_ax.plot(*zip(pose3d[i_start], pose3d[i_end]), marker='o', markersize=2)\n",
    "        image_ax.scatter(*pose2d.T, s=2)\n",
    "        pose_ax.scatter(*pose3d.T, s=2)\n",
    "\n",
    "    fig.tight_layout()\n",
    "    plt.show()\n",
    "\n",
    "visualize(\n",
    "    image3, \n",
    "    pred3['boxes'].numpy(),\n",
    "    pred3['poses3d'].numpy(),\n",
    "    pred3['poses2d'].numpy(),\n",
    "    model.per_skeleton_joint_edges['smpl_24'].numpy())"
   ]
  },
  {
   "cell_type": "markdown",
   "metadata": {},
   "source": [
    "normal vector 구하기"
   ]
  },
  {
   "cell_type": "markdown",
   "metadata": {},
   "source": [
    "n은 AB와 AC에 수직이다."
   ]
  },
  {
   "cell_type": "markdown",
   "metadata": {},
   "source": [
    "A,B,C점 구하기"
   ]
  },
  {
   "cell_type": "code",
   "execution_count": 40,
   "metadata": {},
   "outputs": [],
   "source": [
    "poses3d1=pred1['poses3d'].numpy()[0]\n",
    "poses3d1[..., 1], poses3d1[..., 2] = poses3d1[..., 2], -poses3d1[..., 1]"
   ]
  },
  {
   "cell_type": "code",
   "execution_count": 51,
   "metadata": {},
   "outputs": [
    {
     "data": {
      "text/plain": [
       "array([-827.9, 7784.8,  954.2], dtype=float32)"
      ]
     },
     "execution_count": 51,
     "metadata": {},
     "output_type": "execute_result"
    }
   ],
   "source": [
    "a=poses3d1[11]\n",
    "a"
   ]
  },
  {
   "cell_type": "code",
   "execution_count": 41,
   "metadata": {},
   "outputs": [],
   "source": [
    "poses3d2=pred2['poses3d'].numpy()[0]\n",
    "poses3d2[..., 1], poses3d2[..., 2] = poses3d2[..., 2], -poses3d2[..., 1]"
   ]
  },
  {
   "cell_type": "code",
   "execution_count": 52,
   "metadata": {},
   "outputs": [
    {
     "data": {
      "text/plain": [
       "array([-1509.4,  6361.6,   623. ], dtype=float32)"
      ]
     },
     "execution_count": 52,
     "metadata": {},
     "output_type": "execute_result"
    }
   ],
   "source": [
    "b=poses3d2[11]\n",
    "b"
   ]
  },
  {
   "cell_type": "code",
   "execution_count": 46,
   "metadata": {},
   "outputs": [],
   "source": [
    "poses3d3=pred3['poses3d'].numpy()[0]\n",
    "poses3d3[..., 1], poses3d3[..., 2] = poses3d3[..., 2], -poses3d3[..., 1]\n",
    " "
   ]
  },
  {
   "cell_type": "code",
   "execution_count": 53,
   "metadata": {},
   "outputs": [
    {
     "data": {
      "text/plain": [
       "array([ 219.8 , 6348.  , -446.65], dtype=float32)"
      ]
     },
     "execution_count": 53,
     "metadata": {},
     "output_type": "execute_result"
    }
   ],
   "source": [
    "c=poses3d3[11]\n",
    "c"
   ]
  },
  {
   "cell_type": "markdown",
   "metadata": {},
   "source": [
    "벡터 만들기"
   ]
  },
  {
   "cell_type": "code",
   "execution_count": 55,
   "metadata": {},
   "outputs": [
    {
     "name": "stdout",
     "output_type": "stream",
     "text": [
      "[ -681.5    -1423.1997  -331.2   ]\n",
      "[ 1047.7001 -1436.7998 -1400.85  ]\n"
     ]
    }
   ],
   "source": [
    "ab = b-a\n",
    "print(ab)\n",
    "ac = c-a\n",
    "print(ac)"
   ]
  },
  {
   "cell_type": "markdown",
   "metadata": {},
   "source": [
    "법벡터 만들기"
   ]
  },
  {
   "cell_type": "code",
   "execution_count": 61,
   "metadata": {},
   "outputs": [
    {
     "data": {
      "text/plain": [
       "[1517821.1, -1301677.5, 2470265.5]"
      ]
     },
     "execution_count": 61,
     "metadata": {},
     "output_type": "execute_result"
    }
   ],
   "source": [
    "list = [ab[1]*ac[2]-ab[2]*ac[1],-(ab[0]*ac[2]-ab[2]*ac[0]),ab[0]*ac[1]-ab[1]*ac[0]]\n",
    "list"
   ]
  },
  {
   "cell_type": "markdown",
   "metadata": {},
   "source": [
    "법벡터는 크기는 상관없다. 방향만 "
   ]
  },
  {
   "cell_type": "code",
   "execution_count": 63,
   "metadata": {},
   "outputs": [
    {
     "data": {
      "text/plain": [
       "[15.17821125, -13.016775, 24.702655]"
      ]
     },
     "execution_count": 63,
     "metadata": {},
     "output_type": "execute_result"
    }
   ],
   "source": [
    "list = [(ab[1]*ac[2]-ab[2]*ac[1])/100000,\n",
    "        -(ab[0]*ac[2]-ab[2]*ac[0])/100000,\n",
    "            (ab[0]*ac[1]-ab[1]*ac[0])/100000]\n",
    "list"
   ]
  },
  {
   "cell_type": "markdown",
   "metadata": {},
   "source": [
    "법벡터를 구했으니 얼만큼 회전해야 할지 알수있다."
   ]
  }
 ],
 "metadata": {
  "kernelspec": {
   "display_name": "Python 3.9.12 ('metrabs': venv)",
   "language": "python",
   "name": "python3"
  },
  "language_info": {
   "codemirror_mode": {
    "name": "ipython",
    "version": 3
   },
   "file_extension": ".py",
   "mimetype": "text/x-python",
   "name": "python",
   "nbconvert_exporter": "python",
   "pygments_lexer": "ipython3",
   "version": "3.9.12"
  },
  "orig_nbformat": 4,
  "vscode": {
   "interpreter": {
    "hash": "c298febc1624e7004931ab9f383ad905d2d16c4d941da8fb932c4c60d1425215"
   }
  }
 },
 "nbformat": 4,
 "nbformat_minor": 2
}

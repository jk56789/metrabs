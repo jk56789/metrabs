{
 "cells": [
  {
   "cell_type": "code",
   "execution_count": 1,
   "metadata": {},
   "outputs": [],
   "source": [
    "#!/usr/bin/env python3\n",
    "import os\n",
    "import sys\n",
    "\n",
    "import cv2\n",
    "import tensorflow as tf\n",
    "\n",
    "import poseviz\n",
    "\n",
    "\n",
    "def main():\n",
    "    model = tf.saved_model.load(download_model('metrabs_eff2l_y4_360'))\n",
    "    skeleton = 'smpl+head_30'\n",
    "    joint_names = model.per_skeleton_joint_names[skeleton].numpy().astype(str)\n",
    "    joint_edges = model.per_skeleton_joint_edges[skeleton].numpy()\n",
    "    viz = poseviz.PoseViz(joint_names, joint_edges)\n",
    "    frame_batches = tf.data.Dataset.from_generator(\n",
    "        frames_from_video, tf.uint8, [None, None, 3]).batch(32).prefetch(1)\n",
    "\n",
    "    for frame_batch in frame_batches:\n",
    "        pred = model.detect_poses_batched(frame_batch, skeleton=skeleton, default_fov_degrees=55)\n",
    "        camera = poseviz.Camera.from_fov(55, frame_batch.shape[1:3])\n",
    "        for frame, boxes, poses3d in zip(\n",
    "                frame_batch.numpy(), pred['boxes'].numpy(), pred['poses3d'].numpy()):\n",
    "            viz.update(frame, boxes, poses3d, camera)\n",
    "    viz.close()\n",
    "\n",
    "\n",
    "def frames_from_video():\n",
    "    video_path = 'C:/Users/Leeyourack/jookyoung/video/1.test_video/wand_detect_15000.avi'\n",
    "    cap = cv2.VideoCapture(video_path)\n",
    "    while (frame_bgr := cap.read()[1]) is not None:\n",
    "        yield frame_bgr[..., ::-1]\n",
    "\n",
    "\n",
    "def download_model(model_type):\n",
    "    server_prefix = 'https://omnomnom.vision.rwth-aachen.de/data/metrabs'\n",
    "    model_zippath = tf.keras.utils.get_file(\n",
    "        origin=f'{server_prefix}/{model_type}.zip',\n",
    "        extract=True, cache_subdir='models')\n",
    "    model_path = os.path.join(os.path.dirname(model_zippath), model_type)\n",
    "    return model_path\n",
    "\n",
    "\n",
    "if __name__ == '__main__':\n",
    "    main()\n"
   ]
  },
  {
   "cell_type": "code",
   "execution_count": null,
   "metadata": {},
   "outputs": [
    {
     "name": "stderr",
     "output_type": "stream",
     "text": [
      "Exception ignored in: <function ScopedTFImportGraphDefOptions.__del__ at 0x00000235C72FC160>\n",
      "Traceback (most recent call last):\n",
      "  File \"c:\\Users\\Leeyourack\\jookyoung\\metrabs\\lib\\site-packages\\tensorflow\\python\\framework\\c_api_util.py\", line 112, in __del__\n",
      "    c_api.TF_DeleteImportGraphDefOptions(self.options)\n",
      "KeyboardInterrupt: \n"
     ]
    }
   ],
   "source": [
    "a=1"
   ]
  }
 ],
 "metadata": {
  "kernelspec": {
   "display_name": "Python 3.9.12 ('metrabs': venv)",
   "language": "python",
   "name": "python3"
  },
  "language_info": {
   "codemirror_mode": {
    "name": "ipython",
    "version": 3
   },
   "file_extension": ".py",
   "mimetype": "text/x-python",
   "name": "python",
   "nbconvert_exporter": "python",
   "pygments_lexer": "ipython3",
   "version": "3.9.12"
  },
  "orig_nbformat": 4,
  "vscode": {
   "interpreter": {
    "hash": "c298febc1624e7004931ab9f383ad905d2d16c4d941da8fb932c4c60d1425215"
   }
  }
 },
 "nbformat": 4,
 "nbformat_minor": 2
}

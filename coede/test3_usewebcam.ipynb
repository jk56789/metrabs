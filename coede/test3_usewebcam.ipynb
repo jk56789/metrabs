{
 "cells": [
  {
   "cell_type": "code",
   "execution_count": 1,
   "metadata": {},
   "outputs": [],
   "source": [
    "#!/usr/bin/env python3\n",
    "import os\n",
    "\n",
    "import cv2\n",
    "import tensorflow as tf\n",
    "\n",
    "import poseviz\n",
    "\n",
    "\n",
    "def main():\n",
    "    model = tf.saved_model.load(download_model('metrabs_rn18_y4'))\n",
    "    skeleton = 'smpl+head_30'\n",
    "    joint_names = model.per_skeleton_joint_names[skeleton].numpy().astype(str)\n",
    "    joint_edges = model.per_skeleton_joint_edges[skeleton].numpy()\n",
    "    viz = poseviz.PoseViz(joint_names, joint_edges)\n",
    "\n",
    "    for frame in frames_from_webcam():\n",
    "        pred = model.detect_poses(\n",
    "            frame, skeleton=skeleton, default_fov_degrees=55, detector_threshold=0.5)\n",
    "        camera = poseviz.Camera.from_fov(55, frame.shape[:2])\n",
    "        viz.update(frame, pred['boxes'], pred['poses3d'], camera)\n",
    "\n",
    "\n",
    "def frames_from_webcam():\n",
    "    cap = cv2.VideoCapture(0)\n",
    "    #cap = cv2.VideoCapture(0)\n",
    "    while (frame_bgr := cap.read()[1]) is not None:\n",
    "        yield frame_bgr[..., ::-1]\n",
    "\n",
    "\n",
    "def download_model(model_type):\n",
    "    server_prefix = 'https://omnomnom.vision.rwth-aachen.de/data/metrabs'\n",
    "    model_zippath = tf.keras.utils.get_file(\n",
    "        origin=f'{server_prefix}/{model_type}.zip',\n",
    "        extract=True, cache_subdir='models')\n",
    "    model_path = os.path.join(os.path.dirname(model_zippath), model_type)\n",
    "    return model_path\n",
    "\n",
    "\n",
    "if __name__ == '__main__':\n",
    "    main()\n"
   ]
  }
 ],
 "metadata": {
  "kernelspec": {
   "display_name": "Python 3.9.12 ('metrabs': venv)",
   "language": "python",
   "name": "python3"
  },
  "language_info": {
   "codemirror_mode": {
    "name": "ipython",
    "version": 3
   },
   "file_extension": ".py",
   "mimetype": "text/x-python",
   "name": "python",
   "nbconvert_exporter": "python",
   "pygments_lexer": "ipython3",
   "version": "3.9.12"
  },
  "orig_nbformat": 4,
  "vscode": {
   "interpreter": {
    "hash": "c298febc1624e7004931ab9f383ad905d2d16c4d941da8fb932c4c60d1425215"
   }
  }
 },
 "nbformat": 4,
 "nbformat_minor": 2
}
